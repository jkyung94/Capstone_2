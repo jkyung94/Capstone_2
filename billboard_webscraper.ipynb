{
 "cells": [
  {
   "cell_type": "code",
   "execution_count": 10,
   "metadata": {
    "collapsed": true
   },
   "outputs": [],
   "source": [
    "import requests\n",
    "import html5lib\n",
    "from bs4 import BeautifulSoup\n",
    "import urllib\n",
    "import pandas as pd"
   ]
  },
  {
   "cell_type": "code",
   "execution_count": 2,
   "metadata": {},
   "outputs": [
    {
     "data": {
      "text/html": [
       "<div>\n",
       "<style>\n",
       "    .dataframe thead tr:only-child th {\n",
       "        text-align: right;\n",
       "    }\n",
       "\n",
       "    .dataframe thead th {\n",
       "        text-align: left;\n",
       "    }\n",
       "\n",
       "    .dataframe tbody tr th {\n",
       "        vertical-align: top;\n",
       "    }\n",
       "</style>\n",
       "<table border=\"1\" class=\"dataframe\">\n",
       "  <thead>\n",
       "    <tr style=\"text-align: right;\">\n",
       "      <th></th>\n",
       "      <th>Year</th>\n",
       "      <th>Songs</th>\n",
       "      <th>Artists</th>\n",
       "    </tr>\n",
       "  </thead>\n",
       "  <tbody>\n",
       "    <tr>\n",
       "      <th>0</th>\n",
       "      <td>2014</td>\n",
       "      <td>Happy</td>\n",
       "      <td>Pharrell Williams</td>\n",
       "    </tr>\n",
       "    <tr>\n",
       "      <th>1</th>\n",
       "      <td>2014</td>\n",
       "      <td>Dark Horse</td>\n",
       "      <td>Katy Perry featuring Juicy J</td>\n",
       "    </tr>\n",
       "    <tr>\n",
       "      <th>2</th>\n",
       "      <td>2014</td>\n",
       "      <td>All of Me</td>\n",
       "      <td>John Legend</td>\n",
       "    </tr>\n",
       "    <tr>\n",
       "      <th>3</th>\n",
       "      <td>2014</td>\n",
       "      <td>Fancy</td>\n",
       "      <td>Iggy Azalea featuring Charli XCX</td>\n",
       "    </tr>\n",
       "    <tr>\n",
       "      <th>4</th>\n",
       "      <td>2014</td>\n",
       "      <td>Counting Stars</td>\n",
       "      <td>OneRepublic</td>\n",
       "    </tr>\n",
       "  </tbody>\n",
       "</table>\n",
       "</div>"
      ],
      "text/plain": [
       "   Year           Songs                           Artists\n",
       "0  2014           Happy                 Pharrell Williams\n",
       "1  2014      Dark Horse      Katy Perry featuring Juicy J\n",
       "2  2014       All of Me                       John Legend\n",
       "3  2014           Fancy  Iggy Azalea featuring Charli XCX\n",
       "4  2014  Counting Stars                       OneRepublic"
      ]
     },
     "execution_count": 2,
     "metadata": {},
     "output_type": "execute_result"
    }
   ],
   "source": [
    "# improved code\n",
    "years = [2014, 2015, 2016, 2017] # define years\n",
    "df = pd.DataFrame(columns=['Year','Songs', 'Artists']) # create an empty dataframe\n",
    "\n",
    "for year in years:\n",
    "\n",
    "    wiki = 'https://en.wikipedia.org/wiki/Billboard_Year-End_Hot_100_singles_of_{}'.format(year) # define your target URL\n",
    "    web = requests.get(wiki).text # send get request\n",
    "    soup = BeautifulSoup(web, \"html5lib\") # create the soup\n",
    "    \n",
    "    # loop through the soup\n",
    "    for song_html in soup.find_all('tr'): \n",
    "        # other rows exist in the soup, so work only with those that are numbered which correspond to songs\n",
    "        try:\n",
    "            song_number = int(song_html.th.text) # test to filter out rows that don't correspond to songs\n",
    "            song = song_html.select_one('td:nth-of-type(1)').text[1:-1] # get song title\n",
    "            artists = song_html.select_one('td:nth-of-type(2)').text # get artists info\n",
    "        \n",
    "            df = df.append({'Year': year, 'Songs': song, 'Artists': artists}, ignore_index=True) # append it to dataframe\n",
    "        \n",
    "        except:\n",
    "            pass # if test fails, then we don't really want to do antying so we just pass\n",
    "        \n",
    "df.head()"
   ]
  },
  {
   "cell_type": "code",
   "execution_count": 3,
   "metadata": {},
   "outputs": [
    {
     "data": {
      "text/html": [
       "<div>\n",
       "<style>\n",
       "    .dataframe thead tr:only-child th {\n",
       "        text-align: right;\n",
       "    }\n",
       "\n",
       "    .dataframe thead th {\n",
       "        text-align: left;\n",
       "    }\n",
       "\n",
       "    .dataframe tbody tr th {\n",
       "        vertical-align: top;\n",
       "    }\n",
       "</style>\n",
       "<table border=\"1\" class=\"dataframe\">\n",
       "  <thead>\n",
       "    <tr style=\"text-align: right;\">\n",
       "      <th></th>\n",
       "      <th>Year</th>\n",
       "      <th>Songs</th>\n",
       "      <th>Artists</th>\n",
       "    </tr>\n",
       "  </thead>\n",
       "  <tbody>\n",
       "    <tr>\n",
       "      <th>395</th>\n",
       "      <td>2017</td>\n",
       "      <td>Havana</td>\n",
       "      <td>Camila Cabello featuring Young Thug</td>\n",
       "    </tr>\n",
       "    <tr>\n",
       "      <th>396</th>\n",
       "      <td>2017</td>\n",
       "      <td>What Lovers Do</td>\n",
       "      <td>Maroon 5 featuring SZA</td>\n",
       "    </tr>\n",
       "    <tr>\n",
       "      <th>397</th>\n",
       "      <td>2017</td>\n",
       "      <td>Do Re Mi</td>\n",
       "      <td>Blackbear</td>\n",
       "    </tr>\n",
       "    <tr>\n",
       "      <th>398</th>\n",
       "      <td>2017</td>\n",
       "      <td>Look at Me!</td>\n",
       "      <td>XXXTentacion</td>\n",
       "    </tr>\n",
       "    <tr>\n",
       "      <th>399</th>\n",
       "      <td>2017</td>\n",
       "      <td>The Fighter</td>\n",
       "      <td>Keith Urban featuring Carrie Underwood</td>\n",
       "    </tr>\n",
       "  </tbody>\n",
       "</table>\n",
       "</div>"
      ],
      "text/plain": [
       "     Year           Songs                                 Artists\n",
       "395  2017          Havana     Camila Cabello featuring Young Thug\n",
       "396  2017  What Lovers Do                  Maroon 5 featuring SZA\n",
       "397  2017        Do Re Mi                               Blackbear\n",
       "398  2017     Look at Me!                            XXXTentacion\n",
       "399  2017     The Fighter  Keith Urban featuring Carrie Underwood"
      ]
     },
     "execution_count": 3,
     "metadata": {},
     "output_type": "execute_result"
    }
   ],
   "source": [
    "df.tail()"
   ]
  },
  {
   "cell_type": "code",
   "execution_count": 11,
   "metadata": {
    "scrolled": false
   },
   "outputs": [
    {
     "name": "stdout",
     "output_type": "stream",
     "text": [
      "\n",
      "2014\n",
      "\n",
      "{'\"Happy\"': 'Pharrell Williams', '\"Dark Horse\"': 'Katy Perry featuring Juicy J', '\"All of Me\"': 'John Legend', '\"Fancy\"': 'Iggy Azalea featuring Charli XCX', '\"Counting Stars\"': 'OneRepublic', '\"Talk Dirty\"': 'Jason Derulo featuring 2 Chainz', '\"Rude\"': 'Magic!', '\"All About That Bass\"': 'Meghan Trainor', '\"Problem\"': 'Ariana Grande featuring Iggy Azalea', '\"Stay with Me\"': 'Sam Smith', '\"Timber\"': 'Pitbull featuring Kesha', '\"Pompeii\"': 'Bastille', '\"Shake It Off\"': 'Taylor Swift', '\"Am I Wrong\"': 'Nico & Vinz', '\"Turn Down for What\"': 'DJ Snake and Lil Jon', '\"The Monster\"': 'Eminem featuring Rihanna', '\"Say Something\"': 'A Great Big World and Christina Aguilera', '\"Team\"': 'Lorde', '\"Let Her Go\"': 'Passenger', '\"Royals\"': 'Lorde', '\"Let It Go\"': 'Idina Menzel', '\"Wake Me Up\"': 'Avicii', '\"Demons\"': 'Imagine Dragons', '\"Story of My Life\"': 'One Direction', '\"Chandelier\"': 'Sia', '\"Black Widow\"': 'Iggy Azalea featuring Rita Ora', '\"Bang Bang\"': 'Jessie J, Ariana Grande, and Nicki Minaj', '\"Latch\"': 'Disclosure featuring Sam Smith', '\"Maps\"': 'Maroon 5', '\"Loyal\"': 'Chris Brown featuring Lil Wayne and French Montana, Too Short, or Tyga', '\"Best Day of My Life\"': 'American Authors', '\"Habits (Stay High)\"': 'Tove Lo', '\"Summer\"': 'Calvin Harris', '\"Boom Clap\"': 'Charli XCX', '\"Drunk in Love\"': 'Beyoncé featuring Jay Z', '\"Anaconda\"': 'Nicki Minaj', '\"Break Free\"': 'Ariana Grande featuring Zedd', '\"Bailando\"': 'Enrique Iglesias featuring Descemer Bueno and Gente de Zona', '\"Burn\"': 'Ellie Goulding', '\"Wiggle\"': 'Jason Derulo featuring Snoop Dogg', '\"Rather Be\"': 'Clean Bandit featuring Jess Glynne', '\"Don\\'t Tell \\'Em\"': 'Jeremih featuring YG', '\"Show Me\"': 'Kid Ink featuring Chris Brown', '\"Wrecking Ball\"': 'Miley Cyrus', '\"Not a Bad Thing\"': 'Justin Timberlake', '\"Roar\"': 'Katy Perry', '\"Ain\\'t It Fun\"': 'Paramore', '\"The Man\"': 'Aloe Blacc', '\"This Is How We Roll\"': 'Florida Georgia Line featuring Luke Bryan', '\"Classic\"': 'MKTO', '\"A Sky Full of Stars\"': 'Coldplay', '\"Don\\'t\"': 'Ed Sheeran', '\"Na Na\"': 'Trey Songz', '\"Hot Boy\"': 'Bobby Shmurda', '\"Hold On, We\\'re Going Home\"': 'Drake featuring Majid Jordan', '\"Sing\"': 'Ed Sheeran', '\"Radioactive\"': 'Imagine Dragons', '\"My Hitta\"': 'YG featuring Jeezy and Rich Homie Quan', '\"Cool Kids\"': 'Echosmith', '\"Hey Brother\"': 'Avicii', '\"Trumpets\"': 'Jason Derulo', '\"Animals\"': 'Martin Garrix', '\"Burnin\\' It Down\"': 'Jason Aldean', '\"Play It Again\"': 'Luke Bryan', '\"2 On\"': 'Tinashe featuring ScHoolboy Q', '\"Dirt\"': 'Florida Georgia Line', '\"Love Runs Out\"': 'OneRepublic', '\"Bottoms Up\"': 'Brantley Gilbert', '\"Shower\"': 'Becky G', '\"Me and My Broken Heart\"': 'Rixton', '\"Lifestyle\"': 'Rich Gang featuring Young Thug and Rich Homie Quan', '\"American Kids\"': 'Kenny Chesney', '\"Brave\"': 'Sara Bareilles', '\"Sweater Weather\"': 'The Neighbourhood', '\"Leave the Night On\"': 'Sam Hunt', '\"New Flame\"': 'Chris Brown featuring Usher and Rick Ross', '\"Love Never Felt So Good\"': 'Michael Jackson and Justin Timberlake', '\"Drunk on a Plane\"': 'Dierks Bentley', '\"Birthday\"': 'Katy Perry', '\"Bartender\"': 'Lady Antebellum', '\"La La La\"': 'Naughty Boy featuring Sam Smith', '\"Blurred Lines\"': 'Robin Thicke featuring T.I. and Pharrell Williams', '\"Do What U Want\"': 'Lady Gaga featuring R. Kelly', '\"Can\\'t Remember to Forget You\"': 'Shakira featuring Rihanna', '\"Amnesia\"': '5 Seconds of Summer', '\"No Mediocre\"': 'T.I. featuring Iggy Azalea', '\"Come with Me Now\"': 'KONGOS', '\"Believe Me\"': 'Lil Wayne featuring Drake', '\"23\"': 'Mike WiLL Made-It featuring Miley Cyrus, Wiz Khalifa, and Juicy J', '\"Beachin\\'\"': 'Jake Owen', '\"White Walls\"': 'Macklemore & Ryan Lewis featuring ScHoolboy Q and Hollis', '\"She Looks So Perfect\"': '5 Seconds of Summer', '\"Stay the Night\"': 'Zedd featuring Hayley Williams', '\"Partition\"': 'Beyoncé', '\"Studio\"': 'ScHoolboy Q featuring BJ the Chicago Kid', '\"0 to 100 / The Catch Up\"': 'Drake', '\"I Don\\'t Dance\"': 'Lee Brice', '\"Somethin\\' Bad\"': 'Miranda Lambert and Carrie Underwood', '\"Adore You\"': 'Miley Cyrus'}\n",
      "\n",
      "2015\n",
      "\n",
      "{'\"Uptown Funk\"': 'Mark Ronson featuring Bruno Mars', '\"Thinking Out Loud\"': 'Ed Sheeran', '\"See You Again\"': 'Wiz Khalifa featuring Charlie Puth', '\"Trap Queen\"': 'Fetty Wap', '\"Sugar\"': 'Maroon 5', '\"Shut Up and Dance\"': 'Walk the Moon', '\"Blank Space\"': 'Taylor Swift', '\"Watch Me\"': 'Silentó', '\"Earned It\"': 'The Weeknd', '\"The Hills\"': 'The Weeknd', '\"Cheerleader\"': 'OMI', '\"Can\\'t Feel My Face\"': 'The Weeknd', '\"Love Me Like You Do\"': 'Ellie Goulding', '\"Take Me to Church\"': 'Hozier', '\"Bad Blood\"': 'Taylor Swift featuring Kendrick Lamar', '\"Lean On\"': 'Major Lazer and DJ Snake featuring MØ', '\"Want to Want Me\"': 'Jason Derulo', '\"Shake It Off\"': 'Taylor Swift', '\"Where Are Ü Now\"': 'Skrillex and Diplo featuring Justin Bieber', '\"Fight Song\"': 'Rachel Platten', '\"679\"': 'Fetty Wap featuring Remy Boyz', '\"Lips Are Movin\"': 'Meghan Trainor', '\"Worth It\"': 'Fifth Harmony featuring Kid Ink', '\"Post to Be\"': 'Omarion featuring Chris Brown and Jhené Aiko', '\"Honey, I\\'m Good.\"': 'Andy Grammer', '\"I\\'m Not the Only One\"': 'Sam Smith', '\"Good for You\"': 'Selena Gomez featuring ASAP Rocky', '\"All About That Bass\"': 'Meghan Trainor', '\"Style\"': 'Taylor Swift', '\"Hotline Bling\"': 'Drake', '\"Hey Mama\"': 'David Guetta featuring Nicki Minaj, Bebe Rexha and Afrojack', '\"G.D.F.R.\"': 'Flo Rida featuring Sage the Gemini and Lookas', '\"What Do You Mean?\"': 'Justin Bieber', '\"Photograph\"': 'Ed Sheeran', '\"Hello\"': 'Adele', '\"Stitches\"': 'Shawn Mendes', '\"Talking Body\"': 'Tove Lo', '\"Jealous\"': 'Nick Jonas', '\"Time of Our Lives\"': 'Pitbull and Ne-Yo', '\"Locked Away\"': 'R. City featuring Adam Levine', '\"Somebody\"': 'Natalie La Rose featuring Jeremih', '\"FourFiveSeconds\"': 'Rihanna, Kanye West and Paul McCartney', '\"Centuries\"': 'Fall Out Boy', '\"My Way\"': 'Fetty Wap featuring Monty', '\"Take Your Time\"': 'Sam Hunt', '\"Animals\"': 'Maroon 5', '\"I Don\\'t Fuck with You\"': 'Big Sean featuring E-40', '\"Bitch Better Have My Money\"': 'Rihanna', '\"Flex (Ooh, Ooh, Ooh)\"': 'Rich Homie Quan', '\"Nasty Freestyle\"': 'T-Wayne', '\"Only\"': 'Nicki Minaj featuring Drake, Lil Wayne and Chris Brown', '\"Elastic Heart\"': 'Sia', '\"Cool for the Summer\"': 'Demi Lovato', '\"Renegades\"': 'X Ambassadors', '\"I Don\\'t Mind\"': 'Usher featuring Juicy J', '\"Love Me Harder\"': 'Ariana Grande and The Weeknd', '\"Wildest Dreams\"': 'Taylor Swift', '\"Stay with Me\"': 'Sam Smith', '\"You Know You Like It\"': 'DJ Snake and AlunaGeorge', '\"Uma Thurman\"': 'Fall Out Boy', '\"7/11\"': 'Beyoncé', '\"The Heart Wants What It Wants\"': 'Selena Gomez', '\"Girl Crush\"': 'Little Big Town', '\"Slow Motion\"': 'Trey Songz', '\"Drag Me Down\"': 'One Direction', '\"Truffle Butter\"': 'Nicki Minaj featuring Drake and Lil Wayne', '\"One Last Time\"': 'Ariana Grande', '\"Chains\"': 'Nick Jonas', '\"All Eyes on You\"': 'Meek Mill featuring Chris Brown and Nicki Minaj', '\"No Type\"': 'Rae Sremmurd', '\"Riptide\"': 'Vance Joy', '\"Classic Man\"': 'Jidenna featuring Roman GianArthur', '\"Ex\\'s & Oh\\'s\"': 'Elle King', '\"Dear Future Husband\"': 'Meghan Trainor', '\"Marvin Gaye\"': 'Charlie Puth featuring Meghan Trainor', '\"Like I\\'m Gonna Lose You\"': 'Meghan Trainor featuring John Legend', '\"Habits (Stay High)\"': 'Tove Lo', '\"The Hanging Tree\"': 'James Newton Howard featuring Jennifer Lawrence', '\"CoCo\"': 'O.T. Genasis', '\"Bang Bang\"': 'Jessie J, Ariana Grande and Nicki Minaj', '\"Lay Me Down\"': 'Sam Smith', '\"Tuesday\"': 'ILoveMakonnen featuring Drake', '\"Hit the Quan\"': 'iLoveMemphis', '\"Downtown\"': 'Macklemore and Ryan Lewis featuring Eric Nally, Melle Mel, Kool Moe Dee and Grandmaster Caz', '\"House Party\"': 'Sam Hunt', '\"Ayo\"': 'Chris Brown and Tyga', '\"Kick the Dust Up\"': 'Luke Bryan', '\"Blessings\"': 'Big Sean featuring Drake and Kanye West', '\"Budapest\"': 'George Ezra', '\"Chandelier\"': 'Sia', '\"Heartbeat Song\"': 'Kelly Clarkson', '\"Don\\'t\"': 'Ed Sheeran', '\"Ghost\"': 'Ella Henderson', '\"Here\"': 'Alessia Cara', '\"Waves\"': 'Mr Probz', '\"El Perdón\"': 'Nicky Jam and Enrique Iglesias', '\"She Knows\"': 'Ne-Yo featuring Juicy J', '\"Night Changes\"': 'One Direction', '\"Back to Back\"': 'Drake', '\"How Deep Is Your Love\"': 'Calvin Harris and Disciples'}\n",
      "\n",
      "2016\n",
      "\n",
      "{'\"Love Yourself\"': 'Justin Bieber', '\"Sorry\"': 'Beyoncé', '\"One Dance\"': 'Drake featuring Wizkid and Kyla', '\"Work\"': 'Rihanna featuring Drake', '\"Stressed Out\"': 'Twenty One Pilots', '\"Panda\"': 'Desiigner', '\"Hello\"': 'Adele', '\"Don\\'t Let Me Down\"': 'The Chainsmokers featuring Daya', '\"Can\\'t Stop the Feeling!\"': 'Justin Timberlake', '\"Closer\"': 'The Chainsmokers featuring Halsey', '\"Cheap Thrills\"': 'Sia featuring Sean Paul', '\"7 Years\"': 'Lukas Graham', '\"Needed Me\"': 'Rihanna', '\"My House\"': 'Flo Rida', '\"I Took a Pill in Ibiza\"': 'Mike Posner', '\"Work from Home\"': 'Fifth Harmony featuring Ty Dolla $ign', '\"This Is What You Came For\"': 'Calvin Harris featuring Rihanna', '\"Cake by the Ocean\"': 'DNCE', '\"Me, Myself & I\"': 'G-Eazy and Bebe Rexha', '\"Ride\"': 'Twenty One Pilots', '\"Heathens\"': 'Twenty One Pilots', '\"Pillowtalk\"': 'Zayn', '\"Stitches\"': 'Shawn Mendes', '\"Hotline Bling\"': 'Drake', '\"Cold Water\"': 'Major Lazer featuring Justin Bieber and MØ', '\"Send My Love (To Your New Lover)\"': 'Adele', '\"Roses\"': 'The Chainsmokers featuring Rozes', '\"Treat You Better\"': 'Shawn Mendes', '\"Too Good\"': 'Drake featuring Rihanna', '\"Low Life\"': 'Future featuring The Weeknd', '\"What Do You Mean?\"': 'Justin Bieber', '\"The Hills\"': 'The Weeknd', '\"Just Like Fire\"': 'Pink', '\"Broccoli\"': 'DRAM featuring Lil Yachty', '\"Don\\'t\"': 'Bryson Tiller', '\"Dangerous Woman\"': 'Ariana Grande', '\"Jumpman\"': 'Drake and Future', '\"I Hate U, I Love U\"': \"Gnash featuring Olivia O'Brien\", '\"Here\"': 'Alessia Cara', '\"Same Old Love\"': 'Selena Gomez', '\"Controlla\"': 'Drake', '\"Like I\\'m Gonna Lose You\"': 'Meghan Trainor featuring John Legend', '\"One Call Away\"': 'Charlie Puth', '\"Let It Go\"': 'James Bay', '\"No\"': 'Meghan Trainor', '\"Never Forget You\"': 'Zara Larsson and MNEK', '\"Let Me Love You\"': 'DJ Snake featuring Justin Bieber', '\"Don\\'t Mind\"': 'Kent Jones', '\"H.O.L.Y.\"': 'Florida Georgia Line', '\"We Don\\'t Talk Anymore\"': 'Charlie Puth featuring Selena Gomez', '\"Into You\"': 'Ariana Grande', '\"Gold\"': 'Kiiara', '\"Exchange\"': 'Bryson Tiller', '\"679\"': 'Fetty Wap featuring Remy Boyz', '\"Oui\"': 'Jeremih', '\"Hands to Myself\"': 'Selena Gomez', '\"2 Phones\"': 'Kevin Gates', '\"Starboy\"': 'The Weeknd featuring Daft Punk', '\"For Free\"': 'DJ Khaled featuring Drake', '\"Never Be Like You\"': 'Flume featuring Kai', '\"In the Night\"': 'The Weeknd', '\"Me Too\"': 'Meghan Trainor', '\"Ex\\'s & Oh\\'s\"': 'Elle King', '\"Die a Happy Man\"': 'Thomas Rhett', '\"White Iverson\"': 'Post Malone', '\"Close\"': 'Nick Jonas featuring Tove Lo', '\"Unsteady\"': 'X Ambassadors', '\"Sucker for Pain\"': 'Lil Wayne, Wiz Khalifa and Imagine Dragons with Logic and Ty Dolla $ign featuring X Ambassadors', '\"Down in the DM\"': 'Yo Gotti featuring Nicki Minaj', '\"Luv\"': 'Tory Lanez', '\"Can\\'t Feel My Face\"': 'The Weeknd', '\"Hymn for the Weekend\"': 'Coldplay', '\"Say It\"': 'Tory Lanez', '\"Antidote\"': 'Travis Scott', '\"Lost Boy\"': 'Ruth B', '\"Side to Side\"': 'Ariana Grande featuring Nicki Minaj', '\"Sit Still, Look Pretty\"': 'Daya', '\"Wildest Dreams\"': 'Taylor Swift', '\"Middle\"': 'DJ Snake featuring Bipolar Sunshine', '\"On My Mind\"': 'Ellie Goulding', '\"Pop Style\"': 'Drake featuring The Throne', '\"When We Were Young\"': 'Adele', '\"Hide Away\"': 'Daya', '\"Lean On\"': 'Major Lazer and DJ Snake featuring MØ', '\"I Know What You Did Last Summer\"': 'Shawn Mendes and Camila Cabello', '\"All the Way Up\"': 'Fat Joe, Remy Ma and Jay Z featuring French Montana and Infared', '\"Watch Me\"': 'Silentó', '\"Back to Sleep\"': 'Chris Brown', '\"No Limit\"': 'Usher featuring Young Thug', '\"Cut It\"': 'O.T. Genasis featuring Young Dolph', '\"Really Really\"': 'Kevin Gates', '\"All In My Head (Flex)\"': 'Fifth Harmony featuring Fetty Wap', '\"Starving\"': 'Hailee Steinfeld and Grey featuring Zedd', '\"Adventure of a Lifetime\"': 'Coldplay', '\"Humble and Kind\"': 'Tim McGraw', '\"Wicked\"': 'Future', '\"Tiimmy Turner\"': 'Desiigner', '\"See You Again\"': 'Wiz Khalifa featuring Charlie Puth', '\"Perfect\"': 'One Direction'}\n"
     ]
    },
    {
     "name": "stdout",
     "output_type": "stream",
     "text": [
      "\n",
      "2017\n",
      "\n",
      "{'\"Shape of You\"': 'Ed Sheeran', '\"Despacito\"': 'Luis Fonsi and Daddy Yankee featuring Justin Bieber', '\"That\\'s What I Like\"': 'Bruno Mars', '\"Humble\"': 'Kendrick Lamar', '\"Something Just Like This\"': 'The Chainsmokers and Coldplay', '\"Bad and Boujee\"': 'Migos featuring Lil Uzi Vert', '\"Closer\"': 'The Chainsmokers featuring Halsey', '\"Body Like a Back Road\"': 'Sam Hunt', '\"Believer\"': 'Imagine Dragons', '\"Congratulations\"': 'Post Malone featuring Quavo', '\"Say You Won\\'t Let Go\"': 'James Arthur', '\"I\\'m the One\"': 'DJ Khaled featuring Justin Bieber, Quavo, Chance the Rapper and Lil Wayne', '\"XO Tour Llif3\"': 'Lil Uzi Vert', '\"Mask Off\"': 'Future', '\"Unforgettable\"': 'French Montana featuring Swae Lee', '\"24K Magic\"': 'Bruno Mars', '\"Stay\"': 'Zedd and Alessia Cara', '\"Wild Thoughts\"': 'DJ Khaled featuring Rihanna and Bryson Tiller', '\"Black Beatles\"': 'Rae Sremmurd featuring Gucci Mane', '\"Starboy\"': 'The Weeknd featuring Daft Punk', '\"Location\"': 'Khalid', '\"Attention\"': 'Charlie Puth', '\"There\\'s Nothing Holdin\\' Me Back\"': 'Shawn Mendes', '\"Bodak Yellow (Money Moves)\"': 'Cardi B', '\"Redbone\"': 'Childish Gambino', '\"I Don\\'t Wanna Live Forever\"': 'Zayn and Taylor Swift', '\"It Ain\\'t Me\"': 'Kygo and Selena Gomez', '\"iSpy\"': 'Kyle featuring Lil Yachty', '\"Issues\"': 'Julia Michaels', '\"Scars to Your Beautiful\"': 'Alessia Cara', '\"1-800-273-8255\"': 'Logic featuring Alessia Cara and Khalid', '\"Slow Hands\"': 'Niall Horan', '\"Love on the Brain\"': 'Rihanna', '\"I Feel It Coming\"': 'The Weeknd featuring Daft Punk', '\"Bounce Back\"': 'Big Sean', '\"Strip That Down\"': 'Liam Payne featuring Quavo', '\"Fake Love\"': 'Drake', '\"Don\\'t Wanna Know\"': 'Maroon 5 featuring Kendrick Lamar', '\"Look What You Made Me Do\"': 'Taylor Swift', '\"Castle on the Hill\"': 'Ed Sheeran', '\"Bad Things\"': 'Machine Gun Kelly and Camila Cabello', '\"Paris\"': 'The Chainsmokers', '\"Side to Side\"': 'Ariana Grande featuring Nicki Minaj', '\"Rockabye\"': 'Clean Bandit featuring Sean Paul and Anne-Marie', '\"Feel It Still\"': 'Portugal. The Man', '\"Let Me Love You\"': 'DJ Snake featuring Justin Bieber', '\"Sorry Not Sorry\"': 'Demi Lovato', '\"Bank Account\"': '21 Savage', '\"Can\\'t Stop the Feeling!\"': 'Justin Timberlake', '\"Mi Gente\"': 'J Balvin and Willy William featuring Beyoncé', '\"Thunder\"': 'Imagine Dragons', '\"T-Shirt\"': 'Migos', '\"Rake It Up\"': 'Yo Gotti featuring Nicki Minaj', '\"Mercy\"': 'Shawn Mendes', '\"Tunnel Vision\"': 'Kodak Black', '\"Rockstar\"': 'Post Malone featuring 21 Savage', '\"In Case You Didn\\'t Know\"': 'Brett Young', '\"Heathens\"': 'Twenty One Pilots', '\"Now or Never\"': 'Halsey', '\"Caroline\"': 'Aminé', '\"Rolex\"': 'Ayo & Teo', '\"DNA\"': 'Kendrick Lamar', '\"Juju on That Beat (TZ Anthem)\"': 'Zay Hilfigerrr & Zayion McCall', '\"Swang\"': 'Rae Sremmurd', '\"Passionfruit\"': 'Drake', '\"Loyalty\"': 'Kendrick Lamar featuring Rihanna', '\"Praying\"': 'Kesha', '\"Goosebumps\"': 'Travis Scott featuring Kendrick Lamar', '\"Cold\"': 'Maroon 5 featuring Future', '\"Broccoli\"': 'DRAM featuring Lil Yachty', '\"Slide\"': 'Calvin Harris featuring Frank Ocean and Migos', '\"What Ifs\"': 'Kane Brown featuring Lauren Alaina', '\"Chained to the Rhythm\"': 'Katy Perry featuring Skip Marley', '\"Feels\"': 'Calvin Harris featuring Pharrell Williams, Katy Perry and Big Sean', '\"All Time Low\"': 'Jon Bellion', '\"Hurricane\"': 'Luke Combs', '\"Too Good at Goodbyes\"': 'Sam Smith', '\"Young Dumb & Broke\"': 'Khalid', '\"Magnolia\"': 'Playboi Carti', '\"Love Galore\"': 'SZA featuring Travis Scott', '\"Drowning\"': 'A Boogie wit da Hoodie featuring Kodak Black', '\"Starving\"': 'Hailee Steinfeld and Grey featuring Zedd', '\"Both\"': 'Gucci Mane featuring Drake', '\"What About Us\"': 'Pink', '\"Swalla\"': 'Jason Derulo featuring Nicki Minaj and Ty Dolla Sign', '\"Slippery\"': 'Migos featuring Gucci Mane', '\"Sign of the Times\"': 'Harry Styles', '\"Water Under the Bridge\"': 'Adele', '\"Malibu\"': 'Miley Cyrus', '\"Down\"': 'Marian Hill', '\"No Promises\"': 'Cheat Codes featuring Demi Lovato', '\"Treat You Better\"': 'Shawn Mendes', '\"I Get the Bag\"': 'Gucci Mane featuring Migos', '\"Small Town Boy\"': 'Dustin Lynch', '\"Everyday We Lit\"': 'YFN Lucci featuring PnB Rock', '\"Havana\"': 'Camila Cabello featuring Young Thug', '\"What Lovers Do\"': 'Maroon 5 featuring SZA', '\"Do Re Mi\"': 'Blackbear', '\"Look at Me!\"': 'XXXTentacion', '\"The Fighter\"': 'Keith Urban featuring Carrie Underwood'}\n"
     ]
    }
   ],
   "source": [
    "# see dictionary of the top 100 songs per year\n",
    "artist_set=[]  \n",
    "years = [\"2014\", \"2015\", \"2016\",\"2017\"]\n",
    "\n",
    "for year in years:\n",
    "    wiki=\"https://en.wikipedia.org/wiki/Billboard_Year-End_Hot_100_singles_of_\"+year\n",
    "    web=urllib.request.urlopen(wiki)\n",
    "    soup = BeautifulSoup(web, \"lxml\")\n",
    "    tabl = soup.find_all('table', class_='wikitable sortable')\n",
    "    A=[]\n",
    "    B=[]\n",
    "    C=[]\n",
    "    for row in tabl:\n",
    "        col=row.find_all('td');\n",
    "        for col2 in col:\n",
    "            A.append(col2.get_text())\n",
    "\n",
    "\n",
    "    # artists\n",
    "    B = A[1::2]         \n",
    "    artist_set.extend(B)\n",
    "    # songs\n",
    "    C = A[0::2] \n",
    "\n",
    "    # create a dict of artists + songs\n",
    "    songdict = dict(zip(C,B)) \n",
    "    print(\"\\n\"+year+\"\\n\")\n",
    "    print(songdict)"
   ]
  },
  {
   "cell_type": "code",
   "execution_count": 8,
   "metadata": {
    "collapsed": true
   },
   "outputs": [],
   "source": [
    "df.to_csv('billboard_hits.csv')"
   ]
  }
 ],
 "metadata": {
  "kernelspec": {
   "display_name": "Python 3",
   "language": "python",
   "name": "python3"
  },
  "language_info": {
   "codemirror_mode": {
    "name": "ipython",
    "version": 3
   },
   "file_extension": ".py",
   "mimetype": "text/x-python",
   "name": "python",
   "nbconvert_exporter": "python",
   "pygments_lexer": "ipython3",
   "version": "3.6.3"
  },
  "widgets": {
   "state": {},
   "version": "1.1.2"
  }
 },
 "nbformat": 4,
 "nbformat_minor": 2
}
