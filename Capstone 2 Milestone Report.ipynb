{
 "cells": [
  {
   "cell_type": "markdown",
   "metadata": {},
   "source": [
    "# Capstone 2 Milestone Report\n",
    "## What makes a song a hit? \n",
    "\n",
    "### Problem\n",
    "Each year, more than a million songs are released annually, which means that even if one person listened to music and nothing else throughout the day, this person may not come across an artist's song, unless told by a friend or media that says this particular song is a hit. It's no wonder artists have such a hard time making a living. The goal of this project is to find what features of a song makes it popular and to create a model that will predict which songs will be in the top 10 hits of the year.\n",
    "\n",
    "### Clients\n",
    "* Artists/aspiring musicians\n",
    "* Music Industry (record companies, music publishers, etc.)\n",
    "* Anyone interested in music\n",
    "\n",
    "### [Data Wrangling Part I: Web Scraping](https://github.com/jkyung94/Capstone_2/blob/master/billboard_webscraper.ipynb)\n",
    "Billboard is a reliable media source focused on music and is known for its music charts that shows which songs are hot and drawing a lot of popularity and therefore revenue. So, Billboard Year End Hot 100 Single songs between 2014-2017 (400 songs total) were pulled from Wikipedia to use as datapoints to understand what makes a song a top hit. Beautiful Soup was used to scrape the data (year, song, and artist).\n",
    "\n",
    "### [Data Wrangling Part II: Adding Features](https://github.com/jkyung94/Capstone_2/blob/master/add_features.ipynb)\n",
    "Spotify API has the option to add different features to a song, like acousticness and danceability, so using Spotipy, which is a python package used to interact with the Spotify API, all of the features available from the Spotify API for was pulled per song. The specific spotify track ID had to be pulled first and then was used to obtain the features.\n",
    "\n",
    "### Other Potential Datasets to Supplement\n",
    "As Billboard is an American media source, if we were looking for top hits around the world, other international media sources that produces music charts like Billboard could supplement the search for what makes a song a hit. What would also be interesting is to pull more songs throughout the decades to see how music has shifted throughout the decades, but since we are focused on top hits now, the years are limited to the recent 4 years.\n",
    "\n",
    "### [Initial Findings](https://github.com/jkyung94/Capstone_2/blob/master/EDA.ipynb)\n",
    "Upon initial review, songs that are more danceable and energetic seem to be more popular (.67 and .65 in the past 4 years). Acoustic songs and songs without words (instrumentals) don't make it to the top 100 songs as much, nor do songs that are recorded live. However, as speechiness is also low, seems like songs with too many words are not favored also (perhaps like rap). As for mode, the balance tips more for songs in major chords over minor chords, and there does not seem to be much difference in favor between happy or sad songs either (valence). Over the past four years, songs have shifted to be softer than louder, though there are more outliers for louder songs in the recent years, songs have become more energetic though danceability remained roughly the same, and acousticness has decreased. The average tempo for the top hits is 121 bpm which falls under allegro range (fast, quick, bright) and the average song duration is 3.75 minutes. Most songs in the 400 songs that were pulled fall in C# key which is interesting because you don't normally hear of songs in this key compared to the typical G, A, D, or C (easier to play compared to C#). And in the past four years, among the main artists Drake had the most amount of hits followed by the Weeknd (artists featured were not counted). A Pearson correlation was done to explore relationship between features, and the only significant correlations found were a positive correlation between energy and danceability (.75) and a negative correlation between loudness and acousticness (-.37), which both intuitively makes sense."
   ]
  },
  {
   "cell_type": "code",
   "execution_count": null,
   "metadata": {
    "collapsed": true
   },
   "outputs": [],
   "source": []
  }
 ],
 "metadata": {
  "kernelspec": {
   "display_name": "Python 3",
   "language": "python",
   "name": "python3"
  },
  "language_info": {
   "codemirror_mode": {
    "name": "ipython",
    "version": 3
   },
   "file_extension": ".py",
   "mimetype": "text/x-python",
   "name": "python",
   "nbconvert_exporter": "python",
   "pygments_lexer": "ipython3",
   "version": "3.6.3"
  }
 },
 "nbformat": 4,
 "nbformat_minor": 2
}
