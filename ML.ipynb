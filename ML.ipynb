{
 "cells": [
  {
   "cell_type": "code",
   "execution_count": 1,
   "metadata": {},
   "outputs": [
    {
     "name": "stderr",
     "output_type": "stream",
     "text": [
      "/Users/jkyung/anaconda3/lib/python3.6/site-packages/statsmodels/compat/pandas.py:56: FutureWarning: The pandas.core.datetools module is deprecated and will be removed in a future version. Please use the pandas.tseries module instead.\n",
      "  from pandas.core import datetools\n"
     ]
    }
   ],
   "source": [
    "import pandas as pd\n",
    "import numpy as np\n",
    "import matplotlib.pyplot as plt\n",
    "import seaborn as sns\n",
    "from sklearn.model_selection import train_test_split  \n",
    "from sklearn.ensemble import RandomForestClassifier\n",
    "from sklearn.metrics import classification_report\n",
    "from sklearn import metrics  \n",
    "from sklearn import tree\n",
    "from sklearn.linear_model import LogisticRegression\n",
    "import statsmodels.api as sm"
   ]
  },
  {
   "cell_type": "code",
   "execution_count": 2,
   "metadata": {
    "collapsed": true
   },
   "outputs": [],
   "source": [
    "df=pd.read_csv('billboard_hits_with_features.csv',index_col=0)"
   ]
  },
  {
   "cell_type": "code",
   "execution_count": 3,
   "metadata": {},
   "outputs": [
    {
     "data": {
      "text/html": [
       "<div>\n",
       "<style>\n",
       "    .dataframe thead tr:only-child th {\n",
       "        text-align: right;\n",
       "    }\n",
       "\n",
       "    .dataframe thead th {\n",
       "        text-align: left;\n",
       "    }\n",
       "\n",
       "    .dataframe tbody tr th {\n",
       "        vertical-align: top;\n",
       "    }\n",
       "</style>\n",
       "<table border=\"1\" class=\"dataframe\">\n",
       "  <thead>\n",
       "    <tr style=\"text-align: right;\">\n",
       "      <th></th>\n",
       "      <th>Year</th>\n",
       "      <th>Songs</th>\n",
       "      <th>Artists</th>\n",
       "      <th>Track_ID</th>\n",
       "      <th>acousticness</th>\n",
       "      <th>danceability</th>\n",
       "      <th>duration_ms</th>\n",
       "      <th>energy</th>\n",
       "      <th>instrumentalness</th>\n",
       "      <th>key</th>\n",
       "      <th>liveness</th>\n",
       "      <th>loudness</th>\n",
       "      <th>mode</th>\n",
       "      <th>speechiness</th>\n",
       "      <th>tempo</th>\n",
       "      <th>time_signature</th>\n",
       "      <th>valence</th>\n",
       "    </tr>\n",
       "  </thead>\n",
       "  <tbody>\n",
       "    <tr>\n",
       "      <th>0</th>\n",
       "      <td>2014</td>\n",
       "      <td>Happy</td>\n",
       "      <td>Pharrell Williams</td>\n",
       "      <td>spotify:track:6NPVjNh8Jhru9xOmyQigds</td>\n",
       "      <td>0.28600</td>\n",
       "      <td>0.652</td>\n",
       "      <td>233305</td>\n",
       "      <td>0.757</td>\n",
       "      <td>0.0</td>\n",
       "      <td>1</td>\n",
       "      <td>0.0886</td>\n",
       "      <td>-6.819</td>\n",
       "      <td>1</td>\n",
       "      <td>0.1530</td>\n",
       "      <td>159.911</td>\n",
       "      <td>4</td>\n",
       "      <td>0.962</td>\n",
       "    </tr>\n",
       "    <tr>\n",
       "      <th>1</th>\n",
       "      <td>2014</td>\n",
       "      <td>Dark Horse</td>\n",
       "      <td>Katy Perry featuring Juicy J</td>\n",
       "      <td>spotify:track:5jrdCoLpJSvHHorevXBATy</td>\n",
       "      <td>0.00314</td>\n",
       "      <td>0.645</td>\n",
       "      <td>215672</td>\n",
       "      <td>0.585</td>\n",
       "      <td>0.0</td>\n",
       "      <td>6</td>\n",
       "      <td>0.1650</td>\n",
       "      <td>-6.122</td>\n",
       "      <td>1</td>\n",
       "      <td>0.0513</td>\n",
       "      <td>131.931</td>\n",
       "      <td>4</td>\n",
       "      <td>0.353</td>\n",
       "    </tr>\n",
       "    <tr>\n",
       "      <th>2</th>\n",
       "      <td>2014</td>\n",
       "      <td>All of Me</td>\n",
       "      <td>John Legend</td>\n",
       "      <td>spotify:track:3U4isOIWM3VvDubwSI3y7a</td>\n",
       "      <td>0.92200</td>\n",
       "      <td>0.422</td>\n",
       "      <td>269560</td>\n",
       "      <td>0.264</td>\n",
       "      <td>0.0</td>\n",
       "      <td>8</td>\n",
       "      <td>0.1320</td>\n",
       "      <td>-7.064</td>\n",
       "      <td>1</td>\n",
       "      <td>0.0322</td>\n",
       "      <td>119.930</td>\n",
       "      <td>4</td>\n",
       "      <td>0.331</td>\n",
       "    </tr>\n",
       "    <tr>\n",
       "      <th>3</th>\n",
       "      <td>2014</td>\n",
       "      <td>Fancy</td>\n",
       "      <td>Iggy Azalea featuring Charli XCX</td>\n",
       "      <td>spotify:track:3oiMJQAWVaxSubJ7b2VUtX</td>\n",
       "      <td>0.10200</td>\n",
       "      <td>0.911</td>\n",
       "      <td>199938</td>\n",
       "      <td>0.707</td>\n",
       "      <td>0.0</td>\n",
       "      <td>8</td>\n",
       "      <td>0.0490</td>\n",
       "      <td>-4.136</td>\n",
       "      <td>1</td>\n",
       "      <td>0.0696</td>\n",
       "      <td>94.964</td>\n",
       "      <td>4</td>\n",
       "      <td>0.375</td>\n",
       "    </tr>\n",
       "    <tr>\n",
       "      <th>4</th>\n",
       "      <td>2014</td>\n",
       "      <td>Counting Stars</td>\n",
       "      <td>OneRepublic</td>\n",
       "      <td>spotify:track:6sy3LkhNFjJWlaeSMNwQ62</td>\n",
       "      <td>0.06490</td>\n",
       "      <td>0.663</td>\n",
       "      <td>257840</td>\n",
       "      <td>0.714</td>\n",
       "      <td>0.0</td>\n",
       "      <td>1</td>\n",
       "      <td>0.1160</td>\n",
       "      <td>-4.944</td>\n",
       "      <td>0</td>\n",
       "      <td>0.0380</td>\n",
       "      <td>121.990</td>\n",
       "      <td>4</td>\n",
       "      <td>0.468</td>\n",
       "    </tr>\n",
       "  </tbody>\n",
       "</table>\n",
       "</div>"
      ],
      "text/plain": [
       "   Year           Songs                           Artists  \\\n",
       "0  2014           Happy                 Pharrell Williams   \n",
       "1  2014      Dark Horse      Katy Perry featuring Juicy J   \n",
       "2  2014       All of Me                       John Legend   \n",
       "3  2014           Fancy  Iggy Azalea featuring Charli XCX   \n",
       "4  2014  Counting Stars                       OneRepublic   \n",
       "\n",
       "                               Track_ID  acousticness  danceability  \\\n",
       "0  spotify:track:6NPVjNh8Jhru9xOmyQigds       0.28600         0.652   \n",
       "1  spotify:track:5jrdCoLpJSvHHorevXBATy       0.00314         0.645   \n",
       "2  spotify:track:3U4isOIWM3VvDubwSI3y7a       0.92200         0.422   \n",
       "3  spotify:track:3oiMJQAWVaxSubJ7b2VUtX       0.10200         0.911   \n",
       "4  spotify:track:6sy3LkhNFjJWlaeSMNwQ62       0.06490         0.663   \n",
       "\n",
       "   duration_ms  energy  instrumentalness  key  liveness  loudness  mode  \\\n",
       "0       233305   0.757               0.0    1    0.0886    -6.819     1   \n",
       "1       215672   0.585               0.0    6    0.1650    -6.122     1   \n",
       "2       269560   0.264               0.0    8    0.1320    -7.064     1   \n",
       "3       199938   0.707               0.0    8    0.0490    -4.136     1   \n",
       "4       257840   0.714               0.0    1    0.1160    -4.944     0   \n",
       "\n",
       "   speechiness    tempo  time_signature  valence  \n",
       "0       0.1530  159.911               4    0.962  \n",
       "1       0.0513  131.931               4    0.353  \n",
       "2       0.0322  119.930               4    0.331  \n",
       "3       0.0696   94.964               4    0.375  \n",
       "4       0.0380  121.990               4    0.468  "
      ]
     },
     "execution_count": 3,
     "metadata": {},
     "output_type": "execute_result"
    }
   ],
   "source": [
    "df.head()"
   ]
  },
  {
   "cell_type": "code",
   "execution_count": 4,
   "metadata": {},
   "outputs": [
    {
     "name": "stderr",
     "output_type": "stream",
     "text": [
      "/Users/jkyung/anaconda3/lib/python3.6/site-packages/pandas/core/indexing.py:179: SettingWithCopyWarning: \n",
      "A value is trying to be set on a copy of a slice from a DataFrame\n",
      "\n",
      "See the caveats in the documentation: http://pandas.pydata.org/pandas-docs/stable/indexing.html#indexing-view-versus-copy\n",
      "  self._setitem_with_indexer(indexer, value)\n"
     ]
    }
   ],
   "source": [
    "df['top_10'] = 0\n",
    "df['top_10'].loc[0:9] = 1\n",
    "df['top_10'].loc[100:109] = 1\n",
    "df['top_10'].loc[200:209] = 1\n",
    "df['top_10'].loc[300:309] = 1"
   ]
  },
  {
   "cell_type": "code",
   "execution_count": 5,
   "metadata": {
    "collapsed": true
   },
   "outputs": [],
   "source": [
    "df_train = df.iloc[:300, :] # 2014-2016\n",
    "df_test = df.iloc[300:,:] # 2017"
   ]
  },
  {
   "cell_type": "code",
   "execution_count": 6,
   "metadata": {},
   "outputs": [
    {
     "data": {
      "text/html": [
       "<div>\n",
       "<style>\n",
       "    .dataframe thead tr:only-child th {\n",
       "        text-align: right;\n",
       "    }\n",
       "\n",
       "    .dataframe thead th {\n",
       "        text-align: left;\n",
       "    }\n",
       "\n",
       "    .dataframe tbody tr th {\n",
       "        vertical-align: top;\n",
       "    }\n",
       "</style>\n",
       "<table border=\"1\" class=\"dataframe\">\n",
       "  <thead>\n",
       "    <tr style=\"text-align: right;\">\n",
       "      <th></th>\n",
       "      <th>Year</th>\n",
       "      <th>Songs</th>\n",
       "      <th>Artists</th>\n",
       "      <th>Track_ID</th>\n",
       "      <th>acousticness</th>\n",
       "      <th>danceability</th>\n",
       "      <th>duration_ms</th>\n",
       "      <th>energy</th>\n",
       "      <th>instrumentalness</th>\n",
       "      <th>key</th>\n",
       "      <th>liveness</th>\n",
       "      <th>loudness</th>\n",
       "      <th>mode</th>\n",
       "      <th>speechiness</th>\n",
       "      <th>tempo</th>\n",
       "      <th>time_signature</th>\n",
       "      <th>valence</th>\n",
       "      <th>top_10</th>\n",
       "    </tr>\n",
       "  </thead>\n",
       "  <tbody>\n",
       "    <tr>\n",
       "      <th>300</th>\n",
       "      <td>2017</td>\n",
       "      <td>Shape of You</td>\n",
       "      <td>Ed Sheeran</td>\n",
       "      <td>spotify:track:7qiZfU4dY1lWllzX7mPBI3</td>\n",
       "      <td>0.581000</td>\n",
       "      <td>0.825</td>\n",
       "      <td>233713</td>\n",
       "      <td>0.652</td>\n",
       "      <td>0.000000</td>\n",
       "      <td>1</td>\n",
       "      <td>0.0931</td>\n",
       "      <td>-3.183</td>\n",
       "      <td>0</td>\n",
       "      <td>0.0802</td>\n",
       "      <td>95.977</td>\n",
       "      <td>4</td>\n",
       "      <td>0.931</td>\n",
       "      <td>1</td>\n",
       "    </tr>\n",
       "    <tr>\n",
       "      <th>301</th>\n",
       "      <td>2017</td>\n",
       "      <td>Despacito</td>\n",
       "      <td>Luis Fonsi and Daddy Yankee featuring Justin B...</td>\n",
       "      <td>spotify:track:6rPO02ozF3bM7NnOV4h6s2</td>\n",
       "      <td>0.222000</td>\n",
       "      <td>0.630</td>\n",
       "      <td>228827</td>\n",
       "      <td>0.815</td>\n",
       "      <td>0.000000</td>\n",
       "      <td>2</td>\n",
       "      <td>0.0910</td>\n",
       "      <td>-4.265</td>\n",
       "      <td>1</td>\n",
       "      <td>0.1520</td>\n",
       "      <td>88.357</td>\n",
       "      <td>4</td>\n",
       "      <td>0.813</td>\n",
       "      <td>1</td>\n",
       "    </tr>\n",
       "    <tr>\n",
       "      <th>302</th>\n",
       "      <td>2017</td>\n",
       "      <td>That's What I Like</td>\n",
       "      <td>Bruno Mars</td>\n",
       "      <td>spotify:track:0KKkJNfGyhkQ5aFogxQAPU</td>\n",
       "      <td>0.013000</td>\n",
       "      <td>0.853</td>\n",
       "      <td>206693</td>\n",
       "      <td>0.560</td>\n",
       "      <td>0.000000</td>\n",
       "      <td>1</td>\n",
       "      <td>0.0944</td>\n",
       "      <td>-4.961</td>\n",
       "      <td>1</td>\n",
       "      <td>0.0406</td>\n",
       "      <td>134.066</td>\n",
       "      <td>4</td>\n",
       "      <td>0.860</td>\n",
       "      <td>1</td>\n",
       "    </tr>\n",
       "    <tr>\n",
       "      <th>303</th>\n",
       "      <td>2017</td>\n",
       "      <td>Humble</td>\n",
       "      <td>Kendrick Lamar</td>\n",
       "      <td>spotify:track:7KXjTSCq5nL1LoYtL7XAwS</td>\n",
       "      <td>0.000259</td>\n",
       "      <td>0.904</td>\n",
       "      <td>177000</td>\n",
       "      <td>0.611</td>\n",
       "      <td>0.000020</td>\n",
       "      <td>1</td>\n",
       "      <td>0.0976</td>\n",
       "      <td>-6.842</td>\n",
       "      <td>0</td>\n",
       "      <td>0.0888</td>\n",
       "      <td>150.020</td>\n",
       "      <td>4</td>\n",
       "      <td>0.400</td>\n",
       "      <td>1</td>\n",
       "    </tr>\n",
       "    <tr>\n",
       "      <th>304</th>\n",
       "      <td>2017</td>\n",
       "      <td>Something Just Like This</td>\n",
       "      <td>The Chainsmokers and Coldplay</td>\n",
       "      <td>spotify:track:1dNIEtp7AY3oDAKCGg2XkH</td>\n",
       "      <td>0.030600</td>\n",
       "      <td>0.607</td>\n",
       "      <td>247627</td>\n",
       "      <td>0.649</td>\n",
       "      <td>0.000025</td>\n",
       "      <td>11</td>\n",
       "      <td>0.1740</td>\n",
       "      <td>-6.695</td>\n",
       "      <td>0</td>\n",
       "      <td>0.0362</td>\n",
       "      <td>102.996</td>\n",
       "      <td>4</td>\n",
       "      <td>0.505</td>\n",
       "      <td>1</td>\n",
       "    </tr>\n",
       "  </tbody>\n",
       "</table>\n",
       "</div>"
      ],
      "text/plain": [
       "     Year                     Songs  \\\n",
       "300  2017              Shape of You   \n",
       "301  2017                 Despacito   \n",
       "302  2017        That's What I Like   \n",
       "303  2017                    Humble   \n",
       "304  2017  Something Just Like This   \n",
       "\n",
       "                                               Artists  \\\n",
       "300                                         Ed Sheeran   \n",
       "301  Luis Fonsi and Daddy Yankee featuring Justin B...   \n",
       "302                                         Bruno Mars   \n",
       "303                                     Kendrick Lamar   \n",
       "304                      The Chainsmokers and Coldplay   \n",
       "\n",
       "                                 Track_ID  acousticness  danceability  \\\n",
       "300  spotify:track:7qiZfU4dY1lWllzX7mPBI3      0.581000         0.825   \n",
       "301  spotify:track:6rPO02ozF3bM7NnOV4h6s2      0.222000         0.630   \n",
       "302  spotify:track:0KKkJNfGyhkQ5aFogxQAPU      0.013000         0.853   \n",
       "303  spotify:track:7KXjTSCq5nL1LoYtL7XAwS      0.000259         0.904   \n",
       "304  spotify:track:1dNIEtp7AY3oDAKCGg2XkH      0.030600         0.607   \n",
       "\n",
       "     duration_ms  energy  instrumentalness  key  liveness  loudness  mode  \\\n",
       "300       233713   0.652          0.000000    1    0.0931    -3.183     0   \n",
       "301       228827   0.815          0.000000    2    0.0910    -4.265     1   \n",
       "302       206693   0.560          0.000000    1    0.0944    -4.961     1   \n",
       "303       177000   0.611          0.000020    1    0.0976    -6.842     0   \n",
       "304       247627   0.649          0.000025   11    0.1740    -6.695     0   \n",
       "\n",
       "     speechiness    tempo  time_signature  valence  top_10  \n",
       "300       0.0802   95.977               4    0.931       1  \n",
       "301       0.1520   88.357               4    0.813       1  \n",
       "302       0.0406  134.066               4    0.860       1  \n",
       "303       0.0888  150.020               4    0.400       1  \n",
       "304       0.0362  102.996               4    0.505       1  "
      ]
     },
     "execution_count": 6,
     "metadata": {},
     "output_type": "execute_result"
    }
   ],
   "source": [
    "df_test.head()"
   ]
  },
  {
   "cell_type": "code",
   "execution_count": 7,
   "metadata": {},
   "outputs": [
    {
     "name": "stdout",
     "output_type": "stream",
     "text": [
      "Number of observations in the training data: 300\n",
      "Number of observations in the test data: 100\n"
     ]
    }
   ],
   "source": [
    "print('Number of observations in the training data:', len(df_train))\n",
    "print('Number of observations in the test data:',len(df_test))"
   ]
  },
  {
   "cell_type": "code",
   "execution_count": 8,
   "metadata": {},
   "outputs": [
    {
     "data": {
      "text/plain": [
       "Index(['acousticness', 'danceability', 'duration_ms', 'energy',\n",
       "       'instrumentalness', 'key', 'liveness', 'loudness', 'mode',\n",
       "       'speechiness', 'tempo', 'time_signature', 'valence'],\n",
       "      dtype='object')"
      ]
     },
     "execution_count": 8,
     "metadata": {},
     "output_type": "execute_result"
    }
   ],
   "source": [
    "df_features = df.drop(['Year', 'Songs','Artists','Track_ID','top_10'], axis=1)\n",
    "features = df_features.columns[:]\n",
    "features"
   ]
  },
  {
   "cell_type": "code",
   "execution_count": 9,
   "metadata": {
    "collapsed": true
   },
   "outputs": [],
   "source": [
    "df_means = np.mean(df_train[features])\n",
    "df_std = np.std(df_train[features])\n",
    "df_train_features = (df_train[features] - df_means)/df_std\n",
    "df_test_features = (df_test[features] - df_means)/df_std"
   ]
  },
  {
   "cell_type": "code",
   "execution_count": 10,
   "metadata": {
    "collapsed": true
   },
   "outputs": [],
   "source": [
    "y = df_train['top_10']"
   ]
  },
  {
   "cell_type": "code",
   "execution_count": 11,
   "metadata": {},
   "outputs": [
    {
     "data": {
      "text/plain": [
       "RandomForestClassifier(bootstrap=True, class_weight='balanced',\n",
       "            criterion='gini', max_depth=None, max_features='auto',\n",
       "            max_leaf_nodes=None, min_impurity_decrease=0.0,\n",
       "            min_impurity_split=None, min_samples_leaf=1,\n",
       "            min_samples_split=2, min_weight_fraction_leaf=0.0,\n",
       "            n_estimators=1001, n_jobs=2, oob_score=False, random_state=0,\n",
       "            verbose=0, warm_start=False)"
      ]
     },
     "execution_count": 11,
     "metadata": {},
     "output_type": "execute_result"
    }
   ],
   "source": [
    "# Create a random forest Classifier. \n",
    "clf = RandomForestClassifier(n_jobs=2, random_state=0, n_estimators=1001, class_weight='balanced')\n",
    "\n",
    "# Train the Classifier to take the training features and learn how they relate\n",
    "# to the training y (the species)\n",
    "clf.fit(df_train_features, y)"
   ]
  },
  {
   "cell_type": "code",
   "execution_count": 12,
   "metadata": {},
   "outputs": [
    {
     "data": {
      "text/plain": [
       "array([0, 0, 0, 0, 0, 0, 1, 0, 0, 0, 0, 0, 0, 0, 0, 0, 0, 0, 0, 0, 0, 0, 0,\n",
       "       0, 0, 0, 0, 0, 0, 0, 0, 0, 0, 0, 0, 0, 0, 0, 0, 0, 0, 0, 0, 0, 0, 0,\n",
       "       0, 0, 1, 0, 0, 0, 0, 0, 0, 0, 0, 0, 0, 0, 0, 0, 0, 0, 0, 0, 0, 0, 0,\n",
       "       0, 0, 0, 0, 0, 0, 0, 0, 0, 0, 0, 0, 0, 0, 0, 0, 0, 0, 0, 0, 0, 0, 0,\n",
       "       0, 0, 0, 0, 0, 0, 0, 0])"
      ]
     },
     "execution_count": 12,
     "metadata": {},
     "output_type": "execute_result"
    }
   ],
   "source": [
    "preds = clf.predict(df_test_features)\n",
    "preds"
   ]
  },
  {
   "cell_type": "code",
   "execution_count": 13,
   "metadata": {},
   "outputs": [
    {
     "data": {
      "text/plain": [
       "array([[ 0.8415738 ,  0.1584262 ],\n",
       "       [ 0.89735528,  0.10264472],\n",
       "       [ 0.912978  ,  0.087022  ],\n",
       "       [ 0.87299454,  0.12700546],\n",
       "       [ 0.95564436,  0.04435564],\n",
       "       [ 0.90729271,  0.09270729],\n",
       "       [ 0.31383879,  0.68616121],\n",
       "       [ 0.78865685,  0.21134315],\n",
       "       [ 0.94497515,  0.05502485],\n",
       "       [ 0.93506494,  0.06493506]])"
      ]
     },
     "execution_count": 13,
     "metadata": {},
     "output_type": "execute_result"
    }
   ],
   "source": [
    "clf.predict_proba(df_test_features)[0:10]"
   ]
  },
  {
   "cell_type": "code",
   "execution_count": 14,
   "metadata": {},
   "outputs": [
    {
     "data": {
      "text/html": [
       "<div>\n",
       "<style>\n",
       "    .dataframe thead tr:only-child th {\n",
       "        text-align: right;\n",
       "    }\n",
       "\n",
       "    .dataframe thead th {\n",
       "        text-align: left;\n",
       "    }\n",
       "\n",
       "    .dataframe tbody tr th {\n",
       "        vertical-align: top;\n",
       "    }\n",
       "</style>\n",
       "<table border=\"1\" class=\"dataframe\">\n",
       "  <thead>\n",
       "    <tr style=\"text-align: right;\">\n",
       "      <th>Predicted Hit</th>\n",
       "      <th>0</th>\n",
       "      <th>1</th>\n",
       "    </tr>\n",
       "    <tr>\n",
       "      <th>Actual Hit</th>\n",
       "      <th></th>\n",
       "      <th></th>\n",
       "    </tr>\n",
       "  </thead>\n",
       "  <tbody>\n",
       "    <tr>\n",
       "      <th>0</th>\n",
       "      <td>89</td>\n",
       "      <td>1</td>\n",
       "    </tr>\n",
       "    <tr>\n",
       "      <th>1</th>\n",
       "      <td>9</td>\n",
       "      <td>1</td>\n",
       "    </tr>\n",
       "  </tbody>\n",
       "</table>\n",
       "</div>"
      ],
      "text/plain": [
       "Predicted Hit   0  1\n",
       "Actual Hit          \n",
       "0              89  1\n",
       "1               9  1"
      ]
     },
     "execution_count": 14,
     "metadata": {},
     "output_type": "execute_result"
    }
   ],
   "source": [
    "pd.crosstab(df_test['top_10'], preds, rownames=['Actual Hit'], colnames=['Predicted Hit'])"
   ]
  },
  {
   "cell_type": "code",
   "execution_count": 15,
   "metadata": {},
   "outputs": [
    {
     "data": {
      "text/plain": [
       "[('acousticness', 0.087207032792433276),\n",
       " ('danceability', 0.098921327097575493),\n",
       " ('duration_ms', 0.096781889837850563),\n",
       " ('energy', 0.090343528195510836),\n",
       " ('instrumentalness', 0.051386637300595117),\n",
       " ('key', 0.073958175239767596),\n",
       " ('liveness', 0.085725469617879427),\n",
       " ('loudness', 0.10469079172206663),\n",
       " ('mode', 0.023683742577832505),\n",
       " ('speechiness', 0.087471801537929356),\n",
       " ('tempo', 0.091638094754767571),\n",
       " ('time_signature', 0.0026525647082364426),\n",
       " ('valence', 0.1055389446175555)]"
      ]
     },
     "execution_count": 15,
     "metadata": {},
     "output_type": "execute_result"
    }
   ],
   "source": [
    "list(zip(df_train[features], clf.feature_importances_))"
   ]
  },
  {
   "cell_type": "code",
   "execution_count": 16,
   "metadata": {
    "collapsed": true
   },
   "outputs": [],
   "source": [
    "# Logistic Regression\n",
    "logreg = LogisticRegression()"
   ]
  },
  {
   "cell_type": "code",
   "execution_count": 17,
   "metadata": {},
   "outputs": [
    {
     "name": "stdout",
     "output_type": "stream",
     "text": [
      "Optimization terminated successfully.\n",
      "         Current function value: 0.302326\n",
      "         Iterations 11\n",
      "                           Logit Regression Results                           \n",
      "==============================================================================\n",
      "Dep. Variable:                 top_10   No. Observations:                  300\n",
      "Model:                          Logit   Df Residuals:                      287\n",
      "Method:                           MLE   Df Model:                           12\n",
      "Date:                Tue, 24 Jul 2018   Pseudo R-squ.:                 0.07000\n",
      "Time:                        16:54:31   Log-Likelihood:                -90.698\n",
      "converged:                       True   LL-Null:                       -97.525\n",
      "                                        LLR p-value:                    0.3233\n",
      "====================================================================================\n",
      "                       coef    std err          z      P>|z|      [0.025      0.975]\n",
      "------------------------------------------------------------------------------------\n",
      "acousticness         0.4689      1.086      0.432      0.666      -1.660       2.598\n",
      "danceability         0.3631      1.820      0.200      0.842      -3.204       3.930\n",
      "duration_ms       3.942e-06   6.11e-06      0.645      0.519   -8.04e-06    1.59e-05\n",
      "energy              -2.0922      2.168     -0.965      0.335      -6.342       2.157\n",
      "instrumentalness   -15.1715     49.480     -0.307      0.759    -112.150      81.807\n",
      "key                 -0.1050      0.059     -1.794      0.073      -0.220       0.010\n",
      "liveness             0.0207      1.502      0.014      0.989      -2.923       2.964\n",
      "loudness             0.1259      0.143      0.881      0.378      -0.154       0.406\n",
      "mode                 0.4843      0.447      1.084      0.279      -0.392       1.360\n",
      "speechiness          1.9691      2.078      0.948      0.343      -2.104       6.042\n",
      "tempo               -0.0043      0.007     -0.614      0.540      -0.018       0.009\n",
      "time_signature      -0.4623      0.601     -0.770      0.441      -1.639       0.715\n",
      "valence              2.0960      1.167      1.795      0.073      -0.192       4.384\n",
      "====================================================================================\n"
     ]
    }
   ],
   "source": [
    "logit_model=sm.Logit(y,df_train[features])\n",
    "result=logit_model.fit()\n",
    "print(result.summary())"
   ]
  },
  {
   "cell_type": "markdown",
   "metadata": {},
   "source": []
  }
 ],
 "metadata": {
  "kernelspec": {
   "display_name": "Python 3",
   "language": "python",
   "name": "python3"
  },
  "language_info": {
   "codemirror_mode": {
    "name": "ipython",
    "version": 3
   },
   "file_extension": ".py",
   "mimetype": "text/x-python",
   "name": "python",
   "nbconvert_exporter": "python",
   "pygments_lexer": "ipython3",
   "version": "3.6.3"
  }
 },
 "nbformat": 4,
 "nbformat_minor": 2
}
