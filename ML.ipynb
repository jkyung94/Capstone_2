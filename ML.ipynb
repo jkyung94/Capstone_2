{
 "cells": [
  {
   "cell_type": "code",
   "execution_count": 2,
   "metadata": {},
   "outputs": [
    {
     "name": "stderr",
     "output_type": "stream",
     "text": [
      "/Users/jkyung/anaconda3/lib/python3.6/site-packages/statsmodels/compat/pandas.py:56: FutureWarning: The pandas.core.datetools module is deprecated and will be removed in a future version. Please use the pandas.tseries module instead.\n",
      "  from pandas.core import datetools\n"
     ]
    }
   ],
   "source": [
    "import pandas as pd\n",
    "import numpy as np\n",
    "import matplotlib.pyplot as plt\n",
    "import seaborn as sns\n",
    "from sklearn.model_selection import train_test_split  \n",
    "from sklearn.ensemble import RandomForestClassifier\n",
    "from sklearn.metrics import classification_report\n",
    "from sklearn import metrics  \n",
    "from sklearn import tree\n",
    "from sklearn.linear_model import LogisticRegression\n",
    "import statsmodels.api as sm\n",
    "from imblearn.over_sampling import SMOTE \n",
    "from imblearn.pipeline import Pipeline"
   ]
  },
  {
   "cell_type": "code",
   "execution_count": 3,
   "metadata": {
    "collapsed": true
   },
   "outputs": [],
   "source": [
    "df=pd.read_csv('billboard_hits_with_features.csv',index_col=0)"
   ]
  },
  {
   "cell_type": "code",
   "execution_count": 4,
   "metadata": {},
   "outputs": [
    {
     "data": {
      "text/html": [
       "<div>\n",
       "<style>\n",
       "    .dataframe thead tr:only-child th {\n",
       "        text-align: right;\n",
       "    }\n",
       "\n",
       "    .dataframe thead th {\n",
       "        text-align: left;\n",
       "    }\n",
       "\n",
       "    .dataframe tbody tr th {\n",
       "        vertical-align: top;\n",
       "    }\n",
       "</style>\n",
       "<table border=\"1\" class=\"dataframe\">\n",
       "  <thead>\n",
       "    <tr style=\"text-align: right;\">\n",
       "      <th></th>\n",
       "      <th>Year</th>\n",
       "      <th>Songs</th>\n",
       "      <th>Artists</th>\n",
       "      <th>Track_ID</th>\n",
       "      <th>acousticness</th>\n",
       "      <th>danceability</th>\n",
       "      <th>duration_ms</th>\n",
       "      <th>energy</th>\n",
       "      <th>instrumentalness</th>\n",
       "      <th>key</th>\n",
       "      <th>liveness</th>\n",
       "      <th>loudness</th>\n",
       "      <th>mode</th>\n",
       "      <th>speechiness</th>\n",
       "      <th>tempo</th>\n",
       "      <th>time_signature</th>\n",
       "      <th>valence</th>\n",
       "    </tr>\n",
       "  </thead>\n",
       "  <tbody>\n",
       "    <tr>\n",
       "      <th>0</th>\n",
       "      <td>2014</td>\n",
       "      <td>Happy</td>\n",
       "      <td>Pharrell Williams</td>\n",
       "      <td>spotify:track:6NPVjNh8Jhru9xOmyQigds</td>\n",
       "      <td>0.28600</td>\n",
       "      <td>0.652</td>\n",
       "      <td>233305</td>\n",
       "      <td>0.757</td>\n",
       "      <td>0.0</td>\n",
       "      <td>1</td>\n",
       "      <td>0.0886</td>\n",
       "      <td>-6.819</td>\n",
       "      <td>1</td>\n",
       "      <td>0.1530</td>\n",
       "      <td>159.911</td>\n",
       "      <td>4</td>\n",
       "      <td>0.962</td>\n",
       "    </tr>\n",
       "    <tr>\n",
       "      <th>1</th>\n",
       "      <td>2014</td>\n",
       "      <td>Dark Horse</td>\n",
       "      <td>Katy Perry featuring Juicy J</td>\n",
       "      <td>spotify:track:5jrdCoLpJSvHHorevXBATy</td>\n",
       "      <td>0.00314</td>\n",
       "      <td>0.645</td>\n",
       "      <td>215672</td>\n",
       "      <td>0.585</td>\n",
       "      <td>0.0</td>\n",
       "      <td>6</td>\n",
       "      <td>0.1650</td>\n",
       "      <td>-6.122</td>\n",
       "      <td>1</td>\n",
       "      <td>0.0513</td>\n",
       "      <td>131.931</td>\n",
       "      <td>4</td>\n",
       "      <td>0.353</td>\n",
       "    </tr>\n",
       "    <tr>\n",
       "      <th>2</th>\n",
       "      <td>2014</td>\n",
       "      <td>All of Me</td>\n",
       "      <td>John Legend</td>\n",
       "      <td>spotify:track:3U4isOIWM3VvDubwSI3y7a</td>\n",
       "      <td>0.92200</td>\n",
       "      <td>0.422</td>\n",
       "      <td>269560</td>\n",
       "      <td>0.264</td>\n",
       "      <td>0.0</td>\n",
       "      <td>8</td>\n",
       "      <td>0.1320</td>\n",
       "      <td>-7.064</td>\n",
       "      <td>1</td>\n",
       "      <td>0.0322</td>\n",
       "      <td>119.930</td>\n",
       "      <td>4</td>\n",
       "      <td>0.331</td>\n",
       "    </tr>\n",
       "    <tr>\n",
       "      <th>3</th>\n",
       "      <td>2014</td>\n",
       "      <td>Fancy</td>\n",
       "      <td>Iggy Azalea featuring Charli XCX</td>\n",
       "      <td>spotify:track:3oiMJQAWVaxSubJ7b2VUtX</td>\n",
       "      <td>0.10200</td>\n",
       "      <td>0.911</td>\n",
       "      <td>199938</td>\n",
       "      <td>0.707</td>\n",
       "      <td>0.0</td>\n",
       "      <td>8</td>\n",
       "      <td>0.0490</td>\n",
       "      <td>-4.136</td>\n",
       "      <td>1</td>\n",
       "      <td>0.0696</td>\n",
       "      <td>94.964</td>\n",
       "      <td>4</td>\n",
       "      <td>0.375</td>\n",
       "    </tr>\n",
       "    <tr>\n",
       "      <th>4</th>\n",
       "      <td>2014</td>\n",
       "      <td>Counting Stars</td>\n",
       "      <td>OneRepublic</td>\n",
       "      <td>spotify:track:6sy3LkhNFjJWlaeSMNwQ62</td>\n",
       "      <td>0.06490</td>\n",
       "      <td>0.663</td>\n",
       "      <td>257840</td>\n",
       "      <td>0.714</td>\n",
       "      <td>0.0</td>\n",
       "      <td>1</td>\n",
       "      <td>0.1160</td>\n",
       "      <td>-4.944</td>\n",
       "      <td>0</td>\n",
       "      <td>0.0380</td>\n",
       "      <td>121.990</td>\n",
       "      <td>4</td>\n",
       "      <td>0.468</td>\n",
       "    </tr>\n",
       "  </tbody>\n",
       "</table>\n",
       "</div>"
      ],
      "text/plain": [
       "   Year           Songs                           Artists  \\\n",
       "0  2014           Happy                 Pharrell Williams   \n",
       "1  2014      Dark Horse      Katy Perry featuring Juicy J   \n",
       "2  2014       All of Me                       John Legend   \n",
       "3  2014           Fancy  Iggy Azalea featuring Charli XCX   \n",
       "4  2014  Counting Stars                       OneRepublic   \n",
       "\n",
       "                               Track_ID  acousticness  danceability  \\\n",
       "0  spotify:track:6NPVjNh8Jhru9xOmyQigds       0.28600         0.652   \n",
       "1  spotify:track:5jrdCoLpJSvHHorevXBATy       0.00314         0.645   \n",
       "2  spotify:track:3U4isOIWM3VvDubwSI3y7a       0.92200         0.422   \n",
       "3  spotify:track:3oiMJQAWVaxSubJ7b2VUtX       0.10200         0.911   \n",
       "4  spotify:track:6sy3LkhNFjJWlaeSMNwQ62       0.06490         0.663   \n",
       "\n",
       "   duration_ms  energy  instrumentalness  key  liveness  loudness  mode  \\\n",
       "0       233305   0.757               0.0    1    0.0886    -6.819     1   \n",
       "1       215672   0.585               0.0    6    0.1650    -6.122     1   \n",
       "2       269560   0.264               0.0    8    0.1320    -7.064     1   \n",
       "3       199938   0.707               0.0    8    0.0490    -4.136     1   \n",
       "4       257840   0.714               0.0    1    0.1160    -4.944     0   \n",
       "\n",
       "   speechiness    tempo  time_signature  valence  \n",
       "0       0.1530  159.911               4    0.962  \n",
       "1       0.0513  131.931               4    0.353  \n",
       "2       0.0322  119.930               4    0.331  \n",
       "3       0.0696   94.964               4    0.375  \n",
       "4       0.0380  121.990               4    0.468  "
      ]
     },
     "execution_count": 4,
     "metadata": {},
     "output_type": "execute_result"
    }
   ],
   "source": [
    "df.head()"
   ]
  },
  {
   "cell_type": "code",
   "execution_count": 5,
   "metadata": {},
   "outputs": [
    {
     "name": "stderr",
     "output_type": "stream",
     "text": [
      "/Users/jkyung/anaconda3/lib/python3.6/site-packages/pandas/core/indexing.py:179: SettingWithCopyWarning: \n",
      "A value is trying to be set on a copy of a slice from a DataFrame\n",
      "\n",
      "See the caveats in the documentation: http://pandas.pydata.org/pandas-docs/stable/indexing.html#indexing-view-versus-copy\n",
      "  self._setitem_with_indexer(indexer, value)\n"
     ]
    }
   ],
   "source": [
    "df['top_10'] = 0\n",
    "df['top_10'].loc[0:9] = 1\n",
    "df['top_10'].loc[100:109] = 1\n",
    "df['top_10'].loc[200:209] = 1\n",
    "df['top_10'].loc[300:309] = 1"
   ]
  },
  {
   "cell_type": "code",
   "execution_count": 6,
   "metadata": {
    "collapsed": true
   },
   "outputs": [],
   "source": [
    "df_train = df.iloc[:300, :] # 2014-2016\n",
    "df_test = df.iloc[300:,:] # 2017"
   ]
  },
  {
   "cell_type": "code",
   "execution_count": 7,
   "metadata": {},
   "outputs": [
    {
     "data": {
      "text/html": [
       "<div>\n",
       "<style>\n",
       "    .dataframe thead tr:only-child th {\n",
       "        text-align: right;\n",
       "    }\n",
       "\n",
       "    .dataframe thead th {\n",
       "        text-align: left;\n",
       "    }\n",
       "\n",
       "    .dataframe tbody tr th {\n",
       "        vertical-align: top;\n",
       "    }\n",
       "</style>\n",
       "<table border=\"1\" class=\"dataframe\">\n",
       "  <thead>\n",
       "    <tr style=\"text-align: right;\">\n",
       "      <th></th>\n",
       "      <th>Year</th>\n",
       "      <th>Songs</th>\n",
       "      <th>Artists</th>\n",
       "      <th>Track_ID</th>\n",
       "      <th>acousticness</th>\n",
       "      <th>danceability</th>\n",
       "      <th>duration_ms</th>\n",
       "      <th>energy</th>\n",
       "      <th>instrumentalness</th>\n",
       "      <th>key</th>\n",
       "      <th>liveness</th>\n",
       "      <th>loudness</th>\n",
       "      <th>mode</th>\n",
       "      <th>speechiness</th>\n",
       "      <th>tempo</th>\n",
       "      <th>time_signature</th>\n",
       "      <th>valence</th>\n",
       "      <th>top_10</th>\n",
       "    </tr>\n",
       "  </thead>\n",
       "  <tbody>\n",
       "    <tr>\n",
       "      <th>300</th>\n",
       "      <td>2017</td>\n",
       "      <td>Shape of You</td>\n",
       "      <td>Ed Sheeran</td>\n",
       "      <td>spotify:track:7qiZfU4dY1lWllzX7mPBI3</td>\n",
       "      <td>0.581000</td>\n",
       "      <td>0.825</td>\n",
       "      <td>233713</td>\n",
       "      <td>0.652</td>\n",
       "      <td>0.000000</td>\n",
       "      <td>1</td>\n",
       "      <td>0.0931</td>\n",
       "      <td>-3.183</td>\n",
       "      <td>0</td>\n",
       "      <td>0.0802</td>\n",
       "      <td>95.977</td>\n",
       "      <td>4</td>\n",
       "      <td>0.931</td>\n",
       "      <td>1</td>\n",
       "    </tr>\n",
       "    <tr>\n",
       "      <th>301</th>\n",
       "      <td>2017</td>\n",
       "      <td>Despacito</td>\n",
       "      <td>Luis Fonsi and Daddy Yankee featuring Justin B...</td>\n",
       "      <td>spotify:track:6rPO02ozF3bM7NnOV4h6s2</td>\n",
       "      <td>0.222000</td>\n",
       "      <td>0.630</td>\n",
       "      <td>228827</td>\n",
       "      <td>0.815</td>\n",
       "      <td>0.000000</td>\n",
       "      <td>2</td>\n",
       "      <td>0.0910</td>\n",
       "      <td>-4.265</td>\n",
       "      <td>1</td>\n",
       "      <td>0.1520</td>\n",
       "      <td>88.357</td>\n",
       "      <td>4</td>\n",
       "      <td>0.813</td>\n",
       "      <td>1</td>\n",
       "    </tr>\n",
       "    <tr>\n",
       "      <th>302</th>\n",
       "      <td>2017</td>\n",
       "      <td>That's What I Like</td>\n",
       "      <td>Bruno Mars</td>\n",
       "      <td>spotify:track:0KKkJNfGyhkQ5aFogxQAPU</td>\n",
       "      <td>0.013000</td>\n",
       "      <td>0.853</td>\n",
       "      <td>206693</td>\n",
       "      <td>0.560</td>\n",
       "      <td>0.000000</td>\n",
       "      <td>1</td>\n",
       "      <td>0.0944</td>\n",
       "      <td>-4.961</td>\n",
       "      <td>1</td>\n",
       "      <td>0.0406</td>\n",
       "      <td>134.066</td>\n",
       "      <td>4</td>\n",
       "      <td>0.860</td>\n",
       "      <td>1</td>\n",
       "    </tr>\n",
       "    <tr>\n",
       "      <th>303</th>\n",
       "      <td>2017</td>\n",
       "      <td>Humble</td>\n",
       "      <td>Kendrick Lamar</td>\n",
       "      <td>spotify:track:7KXjTSCq5nL1LoYtL7XAwS</td>\n",
       "      <td>0.000259</td>\n",
       "      <td>0.904</td>\n",
       "      <td>177000</td>\n",
       "      <td>0.611</td>\n",
       "      <td>0.000020</td>\n",
       "      <td>1</td>\n",
       "      <td>0.0976</td>\n",
       "      <td>-6.842</td>\n",
       "      <td>0</td>\n",
       "      <td>0.0888</td>\n",
       "      <td>150.020</td>\n",
       "      <td>4</td>\n",
       "      <td>0.400</td>\n",
       "      <td>1</td>\n",
       "    </tr>\n",
       "    <tr>\n",
       "      <th>304</th>\n",
       "      <td>2017</td>\n",
       "      <td>Something Just Like This</td>\n",
       "      <td>The Chainsmokers and Coldplay</td>\n",
       "      <td>spotify:track:1dNIEtp7AY3oDAKCGg2XkH</td>\n",
       "      <td>0.030600</td>\n",
       "      <td>0.607</td>\n",
       "      <td>247627</td>\n",
       "      <td>0.649</td>\n",
       "      <td>0.000025</td>\n",
       "      <td>11</td>\n",
       "      <td>0.1740</td>\n",
       "      <td>-6.695</td>\n",
       "      <td>0</td>\n",
       "      <td>0.0362</td>\n",
       "      <td>102.996</td>\n",
       "      <td>4</td>\n",
       "      <td>0.505</td>\n",
       "      <td>1</td>\n",
       "    </tr>\n",
       "  </tbody>\n",
       "</table>\n",
       "</div>"
      ],
      "text/plain": [
       "     Year                     Songs  \\\n",
       "300  2017              Shape of You   \n",
       "301  2017                 Despacito   \n",
       "302  2017        That's What I Like   \n",
       "303  2017                    Humble   \n",
       "304  2017  Something Just Like This   \n",
       "\n",
       "                                               Artists  \\\n",
       "300                                         Ed Sheeran   \n",
       "301  Luis Fonsi and Daddy Yankee featuring Justin B...   \n",
       "302                                         Bruno Mars   \n",
       "303                                     Kendrick Lamar   \n",
       "304                      The Chainsmokers and Coldplay   \n",
       "\n",
       "                                 Track_ID  acousticness  danceability  \\\n",
       "300  spotify:track:7qiZfU4dY1lWllzX7mPBI3      0.581000         0.825   \n",
       "301  spotify:track:6rPO02ozF3bM7NnOV4h6s2      0.222000         0.630   \n",
       "302  spotify:track:0KKkJNfGyhkQ5aFogxQAPU      0.013000         0.853   \n",
       "303  spotify:track:7KXjTSCq5nL1LoYtL7XAwS      0.000259         0.904   \n",
       "304  spotify:track:1dNIEtp7AY3oDAKCGg2XkH      0.030600         0.607   \n",
       "\n",
       "     duration_ms  energy  instrumentalness  key  liveness  loudness  mode  \\\n",
       "300       233713   0.652          0.000000    1    0.0931    -3.183     0   \n",
       "301       228827   0.815          0.000000    2    0.0910    -4.265     1   \n",
       "302       206693   0.560          0.000000    1    0.0944    -4.961     1   \n",
       "303       177000   0.611          0.000020    1    0.0976    -6.842     0   \n",
       "304       247627   0.649          0.000025   11    0.1740    -6.695     0   \n",
       "\n",
       "     speechiness    tempo  time_signature  valence  top_10  \n",
       "300       0.0802   95.977               4    0.931       1  \n",
       "301       0.1520   88.357               4    0.813       1  \n",
       "302       0.0406  134.066               4    0.860       1  \n",
       "303       0.0888  150.020               4    0.400       1  \n",
       "304       0.0362  102.996               4    0.505       1  "
      ]
     },
     "execution_count": 7,
     "metadata": {},
     "output_type": "execute_result"
    }
   ],
   "source": [
    "df_test.head()"
   ]
  },
  {
   "cell_type": "code",
   "execution_count": 8,
   "metadata": {},
   "outputs": [
    {
     "name": "stdout",
     "output_type": "stream",
     "text": [
      "Number of observations in the training data: 300\n",
      "Number of observations in the test data: 100\n"
     ]
    }
   ],
   "source": [
    "print('Number of observations in the training data:', len(df_train))\n",
    "print('Number of observations in the test data:',len(df_test))"
   ]
  },
  {
   "cell_type": "code",
   "execution_count": 9,
   "metadata": {},
   "outputs": [
    {
     "data": {
      "text/plain": [
       "Index(['acousticness', 'danceability', 'duration_ms', 'energy',\n",
       "       'instrumentalness', 'key', 'liveness', 'loudness', 'mode',\n",
       "       'speechiness', 'tempo', 'time_signature', 'valence'],\n",
       "      dtype='object')"
      ]
     },
     "execution_count": 9,
     "metadata": {},
     "output_type": "execute_result"
    }
   ],
   "source": [
    "df_features = df.drop(['Year', 'Songs','Artists','Track_ID','top_10'], axis=1)\n",
    "features = df_features.columns[:]\n",
    "features"
   ]
  },
  {
   "cell_type": "code",
   "execution_count": 10,
   "metadata": {
    "collapsed": true
   },
   "outputs": [],
   "source": [
    "df_means = np.mean(df_train[features])\n",
    "df_std = np.std(df_train[features])\n",
    "df_train_features = (df_train[features] - df_means)/df_std\n",
    "df_test_features = (df_test[features] - df_means)/df_std"
   ]
  },
  {
   "cell_type": "code",
   "execution_count": 11,
   "metadata": {
    "collapsed": true
   },
   "outputs": [],
   "source": [
    "y = df_train['top_10']\n",
    "y2 = df_test['top_10']"
   ]
  },
  {
   "cell_type": "code",
   "execution_count": 12,
   "metadata": {},
   "outputs": [
    {
     "data": {
      "text/plain": [
       "RandomForestClassifier(bootstrap=True, class_weight='balanced',\n",
       "            criterion='gini', max_depth=None, max_features='auto',\n",
       "            max_leaf_nodes=None, min_impurity_decrease=0.0,\n",
       "            min_impurity_split=None, min_samples_leaf=1,\n",
       "            min_samples_split=2, min_weight_fraction_leaf=0.0,\n",
       "            n_estimators=1001, n_jobs=2, oob_score=False, random_state=0,\n",
       "            verbose=0, warm_start=False)"
      ]
     },
     "execution_count": 12,
     "metadata": {},
     "output_type": "execute_result"
    }
   ],
   "source": [
    "# Create a random forest Classifier. \n",
    "clf = RandomForestClassifier(n_jobs=2, random_state=0, n_estimators=1001, class_weight='balanced')\n",
    "\n",
    "# Train the Classifier to take the training features and learn how they relate\n",
    "# to the training y (the species)\n",
    "clf.fit(df_train_features, y)"
   ]
  },
  {
   "cell_type": "code",
   "execution_count": 13,
   "metadata": {},
   "outputs": [
    {
     "data": {
      "text/plain": [
       "array([0, 0, 0, 0, 0, 0, 1, 0, 0, 0, 0, 0, 0, 0, 0, 0, 0, 0, 0, 0, 0, 0, 0,\n",
       "       0, 0, 0, 0, 0, 0, 0, 0, 0, 0, 0, 0, 0, 0, 0, 0, 0, 0, 0, 0, 0, 0, 0,\n",
       "       0, 0, 1, 0, 0, 0, 0, 0, 0, 0, 0, 0, 0, 0, 0, 0, 0, 0, 0, 0, 0, 0, 0,\n",
       "       0, 0, 0, 0, 0, 0, 0, 0, 0, 0, 0, 0, 0, 0, 0, 0, 0, 0, 0, 0, 0, 0, 0,\n",
       "       0, 0, 0, 0, 0, 0, 0, 0])"
      ]
     },
     "execution_count": 13,
     "metadata": {},
     "output_type": "execute_result"
    }
   ],
   "source": [
    "preds = clf.predict(df_test_features)\n",
    "preds"
   ]
  },
  {
   "cell_type": "code",
   "execution_count": 14,
   "metadata": {},
   "outputs": [
    {
     "data": {
      "text/plain": [
       "array([[ 0.8415738 ,  0.1584262 ],\n",
       "       [ 0.89735528,  0.10264472],\n",
       "       [ 0.912978  ,  0.087022  ],\n",
       "       [ 0.87299454,  0.12700546],\n",
       "       [ 0.95564436,  0.04435564],\n",
       "       [ 0.90729271,  0.09270729],\n",
       "       [ 0.31383879,  0.68616121],\n",
       "       [ 0.78865685,  0.21134315],\n",
       "       [ 0.94497515,  0.05502485],\n",
       "       [ 0.93506494,  0.06493506]])"
      ]
     },
     "execution_count": 14,
     "metadata": {},
     "output_type": "execute_result"
    }
   ],
   "source": [
    "clf.predict_proba(df_test_features)[0:10]"
   ]
  },
  {
   "cell_type": "code",
   "execution_count": 15,
   "metadata": {},
   "outputs": [
    {
     "data": {
      "text/html": [
       "<div>\n",
       "<style>\n",
       "    .dataframe thead tr:only-child th {\n",
       "        text-align: right;\n",
       "    }\n",
       "\n",
       "    .dataframe thead th {\n",
       "        text-align: left;\n",
       "    }\n",
       "\n",
       "    .dataframe tbody tr th {\n",
       "        vertical-align: top;\n",
       "    }\n",
       "</style>\n",
       "<table border=\"1\" class=\"dataframe\">\n",
       "  <thead>\n",
       "    <tr style=\"text-align: right;\">\n",
       "      <th>Predicted Hit</th>\n",
       "      <th>0</th>\n",
       "      <th>1</th>\n",
       "    </tr>\n",
       "    <tr>\n",
       "      <th>Actual Hit</th>\n",
       "      <th></th>\n",
       "      <th></th>\n",
       "    </tr>\n",
       "  </thead>\n",
       "  <tbody>\n",
       "    <tr>\n",
       "      <th>0</th>\n",
       "      <td>89</td>\n",
       "      <td>1</td>\n",
       "    </tr>\n",
       "    <tr>\n",
       "      <th>1</th>\n",
       "      <td>9</td>\n",
       "      <td>1</td>\n",
       "    </tr>\n",
       "  </tbody>\n",
       "</table>\n",
       "</div>"
      ],
      "text/plain": [
       "Predicted Hit   0  1\n",
       "Actual Hit          \n",
       "0              89  1\n",
       "1               9  1"
      ]
     },
     "execution_count": 15,
     "metadata": {},
     "output_type": "execute_result"
    }
   ],
   "source": [
    "pd.crosstab(df_test['top_10'], preds, rownames=['Actual Hit'], colnames=['Predicted Hit'])"
   ]
  },
  {
   "cell_type": "code",
   "execution_count": 16,
   "metadata": {},
   "outputs": [
    {
     "data": {
      "text/plain": [
       "[('acousticness', 0.087207032792433276),\n",
       " ('danceability', 0.098921327097575493),\n",
       " ('duration_ms', 0.096781889837850563),\n",
       " ('energy', 0.090343528195510836),\n",
       " ('instrumentalness', 0.051386637300595117),\n",
       " ('key', 0.073958175239767596),\n",
       " ('liveness', 0.085725469617879427),\n",
       " ('loudness', 0.10469079172206663),\n",
       " ('mode', 0.023683742577832505),\n",
       " ('speechiness', 0.087471801537929356),\n",
       " ('tempo', 0.091638094754767571),\n",
       " ('time_signature', 0.0026525647082364426),\n",
       " ('valence', 0.1055389446175555)]"
      ]
     },
     "execution_count": 16,
     "metadata": {},
     "output_type": "execute_result"
    }
   ],
   "source": [
    "list(zip(df_train[features], clf.feature_importances_))"
   ]
  },
  {
   "cell_type": "code",
   "execution_count": 17,
   "metadata": {
    "collapsed": true
   },
   "outputs": [],
   "source": [
    "# Logistic Regression without any fine tuning\n",
    "logreg = LogisticRegression()"
   ]
  },
  {
   "cell_type": "code",
   "execution_count": 18,
   "metadata": {},
   "outputs": [
    {
     "name": "stdout",
     "output_type": "stream",
     "text": [
      "Optimization terminated successfully.\n",
      "         Current function value: 0.302326\n",
      "         Iterations 11\n",
      "                           Logit Regression Results                           \n",
      "==============================================================================\n",
      "Dep. Variable:                 top_10   No. Observations:                  300\n",
      "Model:                          Logit   Df Residuals:                      287\n",
      "Method:                           MLE   Df Model:                           12\n",
      "Date:                Sat, 11 Aug 2018   Pseudo R-squ.:                 0.07000\n",
      "Time:                        20:50:17   Log-Likelihood:                -90.698\n",
      "converged:                       True   LL-Null:                       -97.525\n",
      "                                        LLR p-value:                    0.3233\n",
      "====================================================================================\n",
      "                       coef    std err          z      P>|z|      [0.025      0.975]\n",
      "------------------------------------------------------------------------------------\n",
      "acousticness         0.4689      1.086      0.432      0.666      -1.660       2.598\n",
      "danceability         0.3631      1.820      0.200      0.842      -3.204       3.930\n",
      "duration_ms       3.942e-06   6.11e-06      0.645      0.519   -8.04e-06    1.59e-05\n",
      "energy              -2.0922      2.168     -0.965      0.335      -6.342       2.157\n",
      "instrumentalness   -15.1715     49.480     -0.307      0.759    -112.150      81.807\n",
      "key                 -0.1050      0.059     -1.794      0.073      -0.220       0.010\n",
      "liveness             0.0207      1.502      0.014      0.989      -2.923       2.964\n",
      "loudness             0.1259      0.143      0.881      0.378      -0.154       0.406\n",
      "mode                 0.4843      0.447      1.084      0.279      -0.392       1.360\n",
      "speechiness          1.9691      2.078      0.948      0.343      -2.104       6.042\n",
      "tempo               -0.0043      0.007     -0.614      0.540      -0.018       0.009\n",
      "time_signature      -0.4623      0.601     -0.770      0.441      -1.639       0.715\n",
      "valence              2.0960      1.167      1.795      0.073      -0.192       4.384\n",
      "====================================================================================\n"
     ]
    }
   ],
   "source": [
    "logit_model=sm.Logit(y,df_train[features])\n",
    "result=logit_model.fit()\n",
    "print(result.summary())"
   ]
  },
  {
   "cell_type": "code",
   "execution_count": 19,
   "metadata": {},
   "outputs": [
    {
     "name": "stdout",
     "output_type": "stream",
     "text": [
      "Best parameters were {'rf__max_depth': 20, 'rf__min_samples_leaf': 5, 'rf__min_samples_split': 2, 'rf__n_estimators': 51}\n",
      "Best average precision was 0.182476836836\n"
     ]
    }
   ],
   "source": [
    "from sklearn.ensemble import RandomForestClassifier\n",
    "from sklearn.model_selection import GridSearchCV \n",
    "\n",
    "clf = Pipeline([('sampling', SMOTE(random_state=42)), ('rf', RandomForestClassifier(random_state=42))])\n",
    "\n",
    "#Grid search with cross validation\n",
    "params = {\n",
    "    'rf__n_estimators': [11, 51, 101, 201],\n",
    "    'rf__max_depth': [10, 20, None],\n",
    "    'rf__min_samples_split': [2, 10, 20, 50],\n",
    "    'rf__min_samples_leaf': [1, 5, 10, 20]\n",
    "}\n",
    "\n",
    "model = GridSearchCV(clf, params, scoring='average_precision', n_jobs=-1)\n",
    "\n",
    "model.fit(df_train_features, y)\n",
    "\n",
    "print('Best parameters were', model.best_params_)\n",
    "print('Best average precision was', model.best_score_)"
   ]
  },
  {
   "cell_type": "code",
   "execution_count": 20,
   "metadata": {
    "collapsed": true
   },
   "outputs": [],
   "source": [
    "from scipy.stats import multivariate_normal\n",
    "from sklearn.metrics import f1_score"
   ]
  },
  {
   "cell_type": "code",
   "execution_count": 21,
   "metadata": {
    "collapsed": true
   },
   "outputs": [],
   "source": [
    "def read_dataset(filePath,delimiter=','):\n",
    "    return genfromtxt(filePath, delimiter=delimiter)\n",
    "\n",
    "def feature_normalize(dataset):\n",
    "    mu = np.mean(dataset,axis=0)\n",
    "    sigma = np.std(dataset,axis=0)\n",
    "    return (dataset - mu)/sigma\n",
    "\n",
    "def estimateGaussian(dataset):\n",
    "    mu = np.mean(dataset, axis=0)\n",
    "    sigma = np.cov(dataset.T)\n",
    "    return mu, sigma\n",
    "    \n",
    "def multivariateGaussian(dataset,mu,sigma):\n",
    "    p = multivariate_normal(mean=mu, cov=sigma)\n",
    "    return p.pdf(dataset)"
   ]
  },
  {
   "cell_type": "code",
   "execution_count": 22,
   "metadata": {
    "collapsed": true
   },
   "outputs": [],
   "source": [
    "def selectThresholdByCV(probs,gt):\n",
    "    best_epsilon = 0\n",
    "    best_f1 = 0\n",
    "    f = 0\n",
    "    stepsize = (max(probs) - min(probs)) / 1000;\n",
    "    epsilons = np.arange(min(probs),max(probs),stepsize)\n",
    "    for epsilon in np.nditer(epsilons):\n",
    "        predictions = (probs < epsilon)\n",
    "        f = f1_score(gt, predictions, average = \"binary\")\n",
    "        if f > best_f1:\n",
    "            best_f1 = f\n",
    "            best_epsilon = epsilon\n",
    "    return best_f1, best_epsilon"
   ]
  },
  {
   "cell_type": "code",
   "execution_count": 23,
   "metadata": {
    "collapsed": true
   },
   "outputs": [],
   "source": [
    "tr_data = df_train_features\n",
    "cv_data = df_test_features"
   ]
  },
  {
   "cell_type": "code",
   "execution_count": 24,
   "metadata": {},
   "outputs": [
    {
     "name": "stderr",
     "output_type": "stream",
     "text": [
      "/Users/jkyung/anaconda3/lib/python3.6/site-packages/sklearn/metrics/classification.py:1135: UndefinedMetricWarning: F-score is ill-defined and being set to 0.0 due to no predicted samples.\n",
      "  'precision', 'predicted', average, warn_for)\n"
     ]
    },
    {
     "name": "stdout",
     "output_type": "stream",
     "text": [
      "0.192771084337\n"
     ]
    }
   ],
   "source": [
    "mu, sigma = estimateGaussian(tr_data)\n",
    "p = multivariateGaussian(tr_data,mu,sigma)\n",
    "\n",
    "p_cv = multivariateGaussian(cv_data,mu,sigma)\n",
    "fscore, ep = selectThresholdByCV(p_cv,y2)\n",
    "outliers = np.asarray(np.where(p < ep))\n",
    "\n",
    "print(fscore)"
   ]
  },
  {
   "cell_type": "code",
   "execution_count": 1,
   "metadata": {
    "collapsed": true
   },
   "outputs": [],
   "source": [
    "# since neither SMOTE nor Anomaly detection gave good results (< 20% f=score), will build a recommendation system\n",
    "from sklearn.cluster import KMeans"
   ]
  },
  {
   "cell_type": "code",
   "execution_count": 29,
   "metadata": {},
   "outputs": [],
   "source": [
    "model = KMeans(n_clusters=20)"
   ]
  },
  {
   "cell_type": "code",
   "execution_count": 30,
   "metadata": {},
   "outputs": [
    {
     "data": {
      "text/plain": [
       "KMeans(algorithm='auto', copy_x=True, init='k-means++', max_iter=300,\n",
       "    n_clusters=20, n_init=10, n_jobs=1, precompute_distances='auto',\n",
       "    random_state=None, tol=0.0001, verbose=0)"
      ]
     },
     "execution_count": 30,
     "metadata": {},
     "output_type": "execute_result"
    }
   ],
   "source": [
    "model.fit(df_train_features)"
   ]
  },
  {
   "cell_type": "code",
   "execution_count": 32,
   "metadata": {},
   "outputs": [
    {
     "name": "stdout",
     "output_type": "stream",
     "text": [
      "[16  0 12  0  2  9  9 16 18 12 16  4 16  4  1  4 11  0 12  0 12  4  1  2 14\n",
      " 18 18 17 18 17  1  4 18  1  2  9  3  4  3  3  0  6  0 12 17 10  4  3  4  1\n",
      "  2  9  6  0  6  3 10  6 16  2  1 10 16  4  0  1  4 16  0 18  7 17 16 16  4\n",
      " 16 17  3 16 16  3  6 17  4  3  2  0  3  6 17 16  9 10  4  5  8 19 12  4  2\n",
      " 17 17  0  9 17  1 17  9  8  2  0  3  2  2  5  3 18 16  2  5 10 16  4  3  9\n",
      " 12  2 16  4 17  4 16  6 12  2  1  2  3  9 14 17 12 18  4  4 10 17  3  9  0\n",
      " 19  4  2  5 17  2  4 12  5 10  3  3 11  6 18  3  0  2  3  0  1  0  4  1 18\n",
      " 11  4 15  0 18 12 17  5 17 16  0 16  6  0 14  4  9  4  1  6 16 10 12  5  3\n",
      " 19  1  0  0 18  5  2  5 17  0  3  0  6  3  3  0  3 18 17  4  6  4  1 17  3\n",
      "  6  0  3  6  7  6  2 16  0  6  8  9 15  1  3  6 11  1 12  0  3  0  5  3  6\n",
      "  4 13  5 10  4  6  6  5  6 12  8  9  4 12  0  6  3 10 18  5 15  3  1  6 17\n",
      " 15  5  5  4  2 18  6  2  3  3  3 13  9  3  6  0 17 18  1  4  8  3  4  0  1]\n"
     ]
    }
   ],
   "source": [
    "labels = model.predict(df_train_features)\n",
    "print(labels)"
   ]
  },
  {
   "cell_type": "code",
   "execution_count": 34,
   "metadata": {},
   "outputs": [
    {
     "name": "stdout",
     "output_type": "stream",
     "text": [
      "[18  1 17 18  3 17  0  0  3  4 12  4  5  5  4 17  3  4 17  5 19 18 16  3 17\n",
      " 17 17  0  0  1  6 17  8 17  0  0  6  0  3  2 17  0  5  3 18  0  5  6 17  3\n",
      "  1  3  6  3  5  2  0  6  3 19 16  5  9  0  6  6 12  4  3  0 18  4  1  3  1\n",
      "  4 12  0  5 17 18  1  6  2  1 17  2  3  4 15  0  3  0  4 16  0  3  8  1  3]\n"
     ]
    }
   ],
   "source": [
    "new_labels = model.predict(df_test_features) \n",
    "print(new_labels)"
   ]
  },
  {
   "cell_type": "code",
   "execution_count": 38,
   "metadata": {},
   "outputs": [
    {
     "name": "stdout",
     "output_type": "stream",
     "text": [
      "1543.04847639\n"
     ]
    }
   ],
   "source": [
    "print(model.inertia_)"
   ]
  },
  {
   "cell_type": "code",
   "execution_count": 42,
   "metadata": {
    "collapsed": true
   },
   "outputs": [],
   "source": [
    "from sklearn.preprocessing import StandardScaler  \n",
    "from sklearn.pipeline import make_pipeline"
   ]
  },
  {
   "cell_type": "code",
   "execution_count": 77,
   "metadata": {
    "collapsed": true
   },
   "outputs": [],
   "source": [
    "scaler = StandardScaler()\n",
    "\n",
    "kmeans = KMeans(n_clusters=20)\n",
    "\n",
    "pipeline = make_pipeline(scaler, kmeans)"
   ]
  },
  {
   "cell_type": "code",
   "execution_count": 78,
   "metadata": {},
   "outputs": [
    {
     "data": {
      "text/plain": [
       "Pipeline(memory=None,\n",
       "     steps=[('standardscaler', StandardScaler(copy=True, with_mean=True, with_std=True)), ('kmeans', KMeans(algorithm='auto', copy_x=True, init='k-means++', max_iter=300,\n",
       "    n_clusters=20, n_init=10, n_jobs=1, precompute_distances='auto',\n",
       "    random_state=None, tol=0.0001, verbose=0))])"
      ]
     },
     "execution_count": 78,
     "metadata": {},
     "output_type": "execute_result"
    }
   ],
   "source": [
    "pipeline.fit(df_train_features)"
   ]
  },
  {
   "cell_type": "code",
   "execution_count": 79,
   "metadata": {},
   "outputs": [
    {
     "name": "stdout",
     "output_type": "stream",
     "text": [
      "[13  5  1  5 19  0 13 13  2  1 13  5 13 15 19 15  9  5  1 11  1 18  4 18 14\n",
      "  2  2 18  2 15  4  5  2  4 18 15 19 15  7  7  5 19  5  1 18 16 15  7 13  4\n",
      " 18  0 11  3 11  7 16  7 15 19  4 16 13  6  5  4 13  6  5  6 10 15 13  6  6\n",
      " 13 15  7  6 13  7 19 15  5  7 18 11  7  3 15  6 13 16  6  8 17  3  1  5 18\n",
      " 15 15  1 13 15  4 15 13 17 19  5  7 18 19  6 19  2 13 19  6 16 13  5  7  5\n",
      "  1 19 13  5 15  5 13 11  1 18  4 19  7  0 14 15  1  6  5  6 16 15  7  0 11\n",
      "  3  6 19  8 15 19  6  1  8 16  7  7  9  1  2  7  5 19  7 11  4  5  6  4  2\n",
      " 17  5 12  5  2  1 18  8 15 13 15 13  3 11 14  6  0  5  4 11  6 16  1  8  7\n",
      "  3 19  0  5  2  8 18  6 15 15  7  5 11  7  7  5  7  2 19  5 11  6  4 15  7\n",
      " 11  5  7 19 10 11 19  6 15 11 17  0 12  4  7  3 17  4  1  5  7  5  8  7 11\n",
      "  5 14  8 16 15 11  3  8 11 18 17  7  6  1 18 19  7 16  2  8 12  7 19 11 18\n",
      " 12  8  8  6 19  2 11 18  7 19  7 14 13  7 11  5 15  2  4 15  9  7  6  1  4]\n"
     ]
    }
   ],
   "source": [
    "labels_p = pipeline.predict(df_train_features)\n",
    "print(labels_p)"
   ]
  },
  {
   "cell_type": "code",
   "execution_count": 80,
   "metadata": {},
   "outputs": [
    {
     "name": "stdout",
     "output_type": "stream",
     "text": [
      "[ 2  4 15  2  7  3 15  1  7  5  1 15  8  8 15 15 19  5 18  8  3  2 13  7 18\n",
      " 18  4  3 11  4  1 15 17 19  5  5  3  5  7 18 18  5  8  7  2  5  8  3 15  7\n",
      "  6  7  3  7  8 19  1 11 19  3 13  8  0 11 11 11  1  5  7 15  2 13  4  7  4\n",
      "  5  1  5  8 15  2  4 11 18  4 15 18 19  6 12  5  7  5  5 13  5 19 17  4  7]\n"
     ]
    }
   ],
   "source": [
    "new_labels_p = pipeline.predict(df_test_features) \n",
    "print(new_labels_p.to)"
   ]
  },
  {
   "cell_type": "code",
   "execution_count": 81,
   "metadata": {},
   "outputs": [
    {
     "name": "stdout",
     "output_type": "stream",
     "text": [
      "1539.95919491\n"
     ]
    }
   ],
   "source": [
    "print(kmeans.inertia_)\n",
    "#lower inertia with standard scaler"
   ]
  },
  {
   "cell_type": "code",
   "execution_count": 92,
   "metadata": {},
   "outputs": [
    {
     "data": {
      "text/plain": [
       "array([13,  5,  1,  5, 19,  0, 13, 13,  2,  1, 13,  5, 13, 15, 19, 15,  9,\n",
       "        5,  1, 11,  1, 18,  4, 18, 14,  2,  2, 18,  2, 15,  4,  5,  2,  4,\n",
       "       18, 15, 19, 15,  7,  7,  5, 19,  5,  1, 18, 16, 15,  7, 13,  4, 18,\n",
       "        0, 11,  3, 11,  7, 16,  7, 15, 19,  4, 16, 13,  6,  5,  4, 13,  6,\n",
       "        5,  6, 10, 15, 13,  6,  6, 13, 15,  7,  6, 13,  7, 19, 15,  5,  7,\n",
       "       18, 11,  7,  3, 15,  6, 13, 16,  6,  8, 17,  3,  1,  5, 18, 15, 15,\n",
       "        1, 13, 15,  4, 15, 13, 17, 19,  5,  7, 18, 19,  6, 19,  2, 13, 19,\n",
       "        6, 16, 13,  5,  7,  5,  1, 19, 13,  5, 15,  5, 13, 11,  1, 18,  4,\n",
       "       19,  7,  0, 14, 15,  1,  6,  5,  6, 16, 15,  7,  0, 11,  3,  6, 19,\n",
       "        8, 15, 19,  6,  1,  8, 16,  7,  7,  9,  1,  2,  7,  5, 19,  7, 11,\n",
       "        4,  5,  6,  4,  2, 17,  5, 12,  5,  2,  1, 18,  8, 15, 13, 15, 13,\n",
       "        3, 11, 14,  6,  0,  5,  4, 11,  6, 16,  1,  8,  7,  3, 19,  0,  5,\n",
       "        2,  8, 18,  6, 15, 15,  7,  5, 11,  7,  7,  5,  7,  2, 19,  5, 11,\n",
       "        6,  4, 15,  7, 11,  5,  7, 19, 10, 11, 19,  6, 15, 11, 17,  0, 12,\n",
       "        4,  7,  3, 17,  4,  1,  5,  7,  5,  8,  7, 11,  5, 14,  8, 16, 15,\n",
       "       11,  3,  8, 11, 18, 17,  7,  6,  1, 18, 19,  7, 16,  2,  8, 12,  7,\n",
       "       19, 11, 18, 12,  8,  8,  6, 19,  2, 11, 18,  7, 19,  7, 14, 13,  7,\n",
       "       11,  5, 15,  2,  4, 15,  9,  7,  6,  1,  4,  2,  4, 15,  2,  7,  3,\n",
       "       15,  1,  7,  5,  1, 15,  8,  8, 15, 15, 19,  5, 18,  8,  3,  2, 13,\n",
       "        7, 18, 18,  4,  3, 11,  4,  1, 15, 17, 19,  5,  5,  3,  5,  7, 18,\n",
       "       18,  5,  8,  7,  2,  5,  8,  3, 15,  7,  6,  7,  3,  7,  8, 19,  1,\n",
       "       11, 19,  3, 13,  8,  0, 11, 11, 11,  1,  5,  7, 15,  2, 13,  4,  7,\n",
       "        4,  5,  1,  5,  8, 15,  2,  4, 11, 18,  4, 15, 18, 19,  6, 12,  5,\n",
       "        7,  5,  5, 13,  5, 19, 17,  4,  7], dtype=int32)"
      ]
     },
     "execution_count": 92,
     "metadata": {},
     "output_type": "execute_result"
    }
   ],
   "source": [
    "all_labels = np.concatenate((labels_p, new_labels_p))\n",
    "all_labels"
   ]
  },
  {
   "cell_type": "code",
   "execution_count": 124,
   "metadata": {},
   "outputs": [
    {
     "data": {
      "text/html": [
       "<div>\n",
       "<style>\n",
       "    .dataframe thead tr:only-child th {\n",
       "        text-align: right;\n",
       "    }\n",
       "\n",
       "    .dataframe thead th {\n",
       "        text-align: left;\n",
       "    }\n",
       "\n",
       "    .dataframe tbody tr th {\n",
       "        vertical-align: top;\n",
       "    }\n",
       "</style>\n",
       "<table border=\"1\" class=\"dataframe\">\n",
       "  <thead>\n",
       "    <tr style=\"text-align: right;\">\n",
       "      <th></th>\n",
       "      <th>artists</th>\n",
       "      <th>labels</th>\n",
       "      <th>songs</th>\n",
       "    </tr>\n",
       "  </thead>\n",
       "  <tbody>\n",
       "    <tr>\n",
       "      <th>0</th>\n",
       "      <td>Pharrell Williams</td>\n",
       "      <td>13</td>\n",
       "      <td>Happy</td>\n",
       "    </tr>\n",
       "    <tr>\n",
       "      <th>1</th>\n",
       "      <td>Katy Perry featuring Juicy J</td>\n",
       "      <td>5</td>\n",
       "      <td>Dark Horse</td>\n",
       "    </tr>\n",
       "    <tr>\n",
       "      <th>2</th>\n",
       "      <td>John Legend</td>\n",
       "      <td>1</td>\n",
       "      <td>All of Me</td>\n",
       "    </tr>\n",
       "    <tr>\n",
       "      <th>3</th>\n",
       "      <td>Iggy Azalea featuring Charli XCX</td>\n",
       "      <td>5</td>\n",
       "      <td>Fancy</td>\n",
       "    </tr>\n",
       "    <tr>\n",
       "      <th>4</th>\n",
       "      <td>OneRepublic</td>\n",
       "      <td>19</td>\n",
       "      <td>Counting Stars</td>\n",
       "    </tr>\n",
       "  </tbody>\n",
       "</table>\n",
       "</div>"
      ],
      "text/plain": [
       "                            artists  labels           songs\n",
       "0                 Pharrell Williams      13           Happy\n",
       "1      Katy Perry featuring Juicy J       5      Dark Horse\n",
       "2                       John Legend       1       All of Me\n",
       "3  Iggy Azalea featuring Charli XCX       5           Fancy\n",
       "4                       OneRepublic      19  Counting Stars"
      ]
     },
     "execution_count": 124,
     "metadata": {},
     "output_type": "execute_result"
    }
   ],
   "source": [
    "Songs = df['Songs']\n",
    "Artists = df['Artists']\n",
    "df_cluster = pd.DataFrame({'labels': all_labels, 'songs': Songs, 'artists': Artists})\n",
    "df_cluster.transpose()\n",
    "df_cluster.head()"
   ]
  },
  {
   "cell_type": "code",
   "execution_count": 125,
   "metadata": {},
   "outputs": [
    {
     "data": {
      "text/html": [
       "<div>\n",
       "<style>\n",
       "    .dataframe thead tr:only-child th {\n",
       "        text-align: right;\n",
       "    }\n",
       "\n",
       "    .dataframe thead th {\n",
       "        text-align: left;\n",
       "    }\n",
       "\n",
       "    .dataframe tbody tr th {\n",
       "        vertical-align: top;\n",
       "    }\n",
       "</style>\n",
       "<table border=\"1\" class=\"dataframe\">\n",
       "  <thead>\n",
       "    <tr style=\"text-align: right;\">\n",
       "      <th></th>\n",
       "      <th>artists</th>\n",
       "      <th>songs</th>\n",
       "    </tr>\n",
       "    <tr>\n",
       "      <th>labels</th>\n",
       "      <th></th>\n",
       "      <th></th>\n",
       "    </tr>\n",
       "  </thead>\n",
       "  <tbody>\n",
       "    <tr>\n",
       "      <th>0</th>\n",
       "      <td>8</td>\n",
       "      <td>8</td>\n",
       "    </tr>\n",
       "    <tr>\n",
       "      <th>1</th>\n",
       "      <td>23</td>\n",
       "      <td>23</td>\n",
       "    </tr>\n",
       "    <tr>\n",
       "      <th>2</th>\n",
       "      <td>20</td>\n",
       "      <td>20</td>\n",
       "    </tr>\n",
       "    <tr>\n",
       "      <th>3</th>\n",
       "      <td>15</td>\n",
       "      <td>15</td>\n",
       "    </tr>\n",
       "    <tr>\n",
       "      <th>4</th>\n",
       "      <td>24</td>\n",
       "      <td>24</td>\n",
       "    </tr>\n",
       "    <tr>\n",
       "      <th>5</th>\n",
       "      <td>45</td>\n",
       "      <td>45</td>\n",
       "    </tr>\n",
       "    <tr>\n",
       "      <th>6</th>\n",
       "      <td>25</td>\n",
       "      <td>25</td>\n",
       "    </tr>\n",
       "    <tr>\n",
       "      <th>7</th>\n",
       "      <td>46</td>\n",
       "      <td>46</td>\n",
       "    </tr>\n",
       "    <tr>\n",
       "      <th>8</th>\n",
       "      <td>20</td>\n",
       "      <td>20</td>\n",
       "    </tr>\n",
       "    <tr>\n",
       "      <th>9</th>\n",
       "      <td>3</td>\n",
       "      <td>3</td>\n",
       "    </tr>\n",
       "    <tr>\n",
       "      <th>10</th>\n",
       "      <td>2</td>\n",
       "      <td>2</td>\n",
       "    </tr>\n",
       "    <tr>\n",
       "      <th>11</th>\n",
       "      <td>26</td>\n",
       "      <td>26</td>\n",
       "    </tr>\n",
       "    <tr>\n",
       "      <th>12</th>\n",
       "      <td>5</td>\n",
       "      <td>5</td>\n",
       "    </tr>\n",
       "    <tr>\n",
       "      <th>13</th>\n",
       "      <td>25</td>\n",
       "      <td>25</td>\n",
       "    </tr>\n",
       "    <tr>\n",
       "      <th>14</th>\n",
       "      <td>5</td>\n",
       "      <td>5</td>\n",
       "    </tr>\n",
       "    <tr>\n",
       "      <th>15</th>\n",
       "      <td>38</td>\n",
       "      <td>38</td>\n",
       "    </tr>\n",
       "    <tr>\n",
       "      <th>16</th>\n",
       "      <td>10</td>\n",
       "      <td>10</td>\n",
       "    </tr>\n",
       "    <tr>\n",
       "      <th>17</th>\n",
       "      <td>8</td>\n",
       "      <td>8</td>\n",
       "    </tr>\n",
       "    <tr>\n",
       "      <th>18</th>\n",
       "      <td>23</td>\n",
       "      <td>23</td>\n",
       "    </tr>\n",
       "    <tr>\n",
       "      <th>19</th>\n",
       "      <td>29</td>\n",
       "      <td>29</td>\n",
       "    </tr>\n",
       "  </tbody>\n",
       "</table>\n",
       "</div>"
      ],
      "text/plain": [
       "        artists  songs\n",
       "labels                \n",
       "0             8      8\n",
       "1            23     23\n",
       "2            20     20\n",
       "3            15     15\n",
       "4            24     24\n",
       "5            45     45\n",
       "6            25     25\n",
       "7            46     46\n",
       "8            20     20\n",
       "9             3      3\n",
       "10            2      2\n",
       "11           26     26\n",
       "12            5      5\n",
       "13           25     25\n",
       "14            5      5\n",
       "15           38     38\n",
       "16           10     10\n",
       "17            8      8\n",
       "18           23     23\n",
       "19           29     29"
      ]
     },
     "execution_count": 125,
     "metadata": {},
     "output_type": "execute_result"
    }
   ],
   "source": [
    "df_cluster.groupby('labels').count()"
   ]
  },
  {
   "cell_type": "code",
   "execution_count": 131,
   "metadata": {},
   "outputs": [
    {
     "data": {
      "text/plain": [
       "labels  artists                                       songs                        \n",
       "0       Drake and Future                              Jumpman                          1\n",
       "        Drake featuring Wizkid and Kyla               One Dance                        1\n",
       "        Ed Sheeran                                    Don't                            2\n",
       "        Jason Derulo featuring 2 Chainz               Talk Dirty                       1\n",
       "        Pitbull and Ne-Yo                             Time of Our Lives                1\n",
       "        Rich Homie Quan                               Flex (Ooh, Ooh, Ooh)             1\n",
       "        Zay Hilfigerrr & Zayion McCall                Juju on That Beat (TZ Anthem)    1\n",
       "1       Brett Young                                   In Case You Didn't Know          1\n",
       "        Ed Sheeran                                    Photograph                       1\n",
       "        Idina Menzel                                  Let It Go                        1\n",
       "        James Arthur                                  Say You Won't Let Go             1\n",
       "        James Bay                                     Let It Go                        1\n",
       "        John Legend                                   All of Me                        1\n",
       "        Kesha                                         Praying                          1\n",
       "        Lee Brice                                     I Don't Dance                    1\n",
       "        Logic featuring Alessia Cara and Khalid       1-800-273-8255                   1\n",
       "        Miley Cyrus                                   Wrecking Ball                    1\n",
       "        One Direction                                 Night Changes                    1\n",
       "        Passenger                                     Let Her Go                       1\n",
       "        Rihanna, Kanye West and Paul McCartney        FourFiveSeconds                  1\n",
       "        Sam Hunt                                      Body Like a Back Road            1\n",
       "        Sam Smith                                     I'm Not the Only One             1\n",
       "                                                      Lay Me Down                      1\n",
       "                                                      Stay with Me                     2\n",
       "                                                      Too Good at Goodbyes             1\n",
       "        Thomas Rhett                                  Die a Happy Man                  1\n",
       "        Trey Songz                                    Slow Motion                      1\n",
       "        Wiz Khalifa featuring Charlie Puth            See You Again                    2\n",
       "2       A Boogie wit da Hoodie featuring Kodak Black  Drowning                         1\n",
       "        Ariana Grande featuring Iggy Azalea           Problem                          1\n",
       "                                                                                      ..\n",
       "18      Rae Sremmurd featuring Gucci Mane             Black Beatles                    1\n",
       "        Travis Scott                                  Antidote                         1\n",
       "        Zayn and Taylor Swift                         I Don't Wanna Live Forever       1\n",
       "19      Adele                                         Water Under the Bridge           1\n",
       "        Ariana Grande and The Weeknd                  Love Me Harder                   1\n",
       "        Ariana Grande featuring Zedd                  Break Free                       1\n",
       "        Avicii                                        Hey Brother                      1\n",
       "        Coldplay                                      Hymn for the Weekend             1\n",
       "        DJ Snake and Lil Jon                          Turn Down for What               1\n",
       "        DJ Snake featuring Bipolar Sunshine           Middle                           1\n",
       "        Demi Lovato                                   Cool for the Summer              1\n",
       "        Drake featuring Rihanna                       Too Good                         1\n",
       "        G-Eazy and Bebe Rexha                         Me, Myself & I                   1\n",
       "        Halsey                                        Now or Never                     1\n",
       "        Hozier                                        Take Me to Church                1\n",
       "        Jeremih featuring YG                          Don't Tell 'Em                   1\n",
       "        Justin Bieber                                 Sorry                            1\n",
       "        Major Lazer and DJ Snake featuring MØ         Lean On                          2\n",
       "        Maroon 5 featuring SZA                        What Lovers Do                   1\n",
       "        Naughty Boy featuring Sam Smith               La La La                         1\n",
       "        Nick Jonas                                    Chains                           1\n",
       "        Nick Jonas featuring Tove Lo                  Close                            1\n",
       "        OneRepublic                                   Counting Stars                   1\n",
       "        Post Malone featuring 21 Savage               Rockstar                         1\n",
       "        Selena Gomez featuring ASAP Rocky             Good for You                     1\n",
       "        Skrillex and Diplo featuring Justin Bieber    Where Are Ü Now                  1\n",
       "        The Weeknd                                    The Hills                        2\n",
       "        The Weeknd featuring Daft Punk                I Feel It Coming                 1\n",
       "        Tove Lo                                       Talking Body                     1\n",
       "        Zedd and Alessia Cara                         Stay                             1\n",
       "Length: 370, dtype: int64"
      ]
     },
     "execution_count": 131,
     "metadata": {},
     "output_type": "execute_result"
    }
   ],
   "source": [
    "df_cluster.pivot_table(index=['labels','artists','songs'],fill_value=0, aggfunc='size')"
   ]
  },
  {
   "cell_type": "code",
   "execution_count": null,
   "metadata": {
    "collapsed": true
   },
   "outputs": [],
   "source": []
  }
 ],
 "metadata": {
  "kernelspec": {
   "display_name": "Python 3",
   "language": "python",
   "name": "python3"
  },
  "language_info": {
   "codemirror_mode": {
    "name": "ipython",
    "version": 3
   },
   "file_extension": ".py",
   "mimetype": "text/x-python",
   "name": "python",
   "nbconvert_exporter": "python",
   "pygments_lexer": "ipython3",
   "version": "3.6.3"
  }
 },
 "nbformat": 4,
 "nbformat_minor": 2
}
