{
 "cells": [
  {
   "cell_type": "code",
   "execution_count": 4,
   "metadata": {},
   "outputs": [],
   "source": [
    "import pandas as pd\n",
    "import numpy as np\n",
    "import matplotlib.pyplot as plt\n",
    "import seaborn as sns\n",
    "from sklearn.model_selection import train_test_split  \n",
    "from sklearn.ensemble import RandomForestClassifier\n",
    "from sklearn.metrics import classification_report\n",
    "from sklearn import metrics  \n",
    "from sklearn import tree\n",
    "from sklearn.linear_model import LogisticRegression\n",
    "import statsmodels.api as sm\n",
    "from imblearn.over_sampling import SMOTE \n",
    "from imblearn.pipeline import Pipeline\n",
    "from spotipy.oauth2 import SpotifyClientCredentials\n",
    "from pandas.io.json import json_normalize\n",
    "import spotipy\n",
    "import spotipy.util as util"
   ]
  },
  {
   "cell_type": "code",
   "execution_count": 6,
   "metadata": {
    "collapsed": true
   },
   "outputs": [],
   "source": [
    "df=pd.read_csv('billboard_hits_with_features.csv',index_col=0)"
   ]
  },
  {
   "cell_type": "code",
   "execution_count": 7,
   "metadata": {},
   "outputs": [
    {
     "data": {
      "text/html": [
       "<div>\n",
       "<style>\n",
       "    .dataframe thead tr:only-child th {\n",
       "        text-align: right;\n",
       "    }\n",
       "\n",
       "    .dataframe thead th {\n",
       "        text-align: left;\n",
       "    }\n",
       "\n",
       "    .dataframe tbody tr th {\n",
       "        vertical-align: top;\n",
       "    }\n",
       "</style>\n",
       "<table border=\"1\" class=\"dataframe\">\n",
       "  <thead>\n",
       "    <tr style=\"text-align: right;\">\n",
       "      <th></th>\n",
       "      <th>Year</th>\n",
       "      <th>Songs</th>\n",
       "      <th>Artists</th>\n",
       "      <th>Track_ID</th>\n",
       "      <th>acousticness</th>\n",
       "      <th>danceability</th>\n",
       "      <th>duration_ms</th>\n",
       "      <th>energy</th>\n",
       "      <th>instrumentalness</th>\n",
       "      <th>key</th>\n",
       "      <th>liveness</th>\n",
       "      <th>loudness</th>\n",
       "      <th>mode</th>\n",
       "      <th>speechiness</th>\n",
       "      <th>tempo</th>\n",
       "      <th>time_signature</th>\n",
       "      <th>valence</th>\n",
       "    </tr>\n",
       "  </thead>\n",
       "  <tbody>\n",
       "    <tr>\n",
       "      <th>0</th>\n",
       "      <td>2014</td>\n",
       "      <td>Happy</td>\n",
       "      <td>Pharrell Williams</td>\n",
       "      <td>spotify:track:6NPVjNh8Jhru9xOmyQigds</td>\n",
       "      <td>0.28600</td>\n",
       "      <td>0.652</td>\n",
       "      <td>233305</td>\n",
       "      <td>0.757</td>\n",
       "      <td>0.0</td>\n",
       "      <td>1</td>\n",
       "      <td>0.0886</td>\n",
       "      <td>-6.819</td>\n",
       "      <td>1</td>\n",
       "      <td>0.1530</td>\n",
       "      <td>159.911</td>\n",
       "      <td>4</td>\n",
       "      <td>0.962</td>\n",
       "    </tr>\n",
       "    <tr>\n",
       "      <th>1</th>\n",
       "      <td>2014</td>\n",
       "      <td>Dark Horse</td>\n",
       "      <td>Katy Perry featuring Juicy J</td>\n",
       "      <td>spotify:track:5jrdCoLpJSvHHorevXBATy</td>\n",
       "      <td>0.00314</td>\n",
       "      <td>0.645</td>\n",
       "      <td>215672</td>\n",
       "      <td>0.585</td>\n",
       "      <td>0.0</td>\n",
       "      <td>6</td>\n",
       "      <td>0.1650</td>\n",
       "      <td>-6.122</td>\n",
       "      <td>1</td>\n",
       "      <td>0.0513</td>\n",
       "      <td>131.931</td>\n",
       "      <td>4</td>\n",
       "      <td>0.353</td>\n",
       "    </tr>\n",
       "    <tr>\n",
       "      <th>2</th>\n",
       "      <td>2014</td>\n",
       "      <td>All of Me</td>\n",
       "      <td>John Legend</td>\n",
       "      <td>spotify:track:3U4isOIWM3VvDubwSI3y7a</td>\n",
       "      <td>0.92200</td>\n",
       "      <td>0.422</td>\n",
       "      <td>269560</td>\n",
       "      <td>0.264</td>\n",
       "      <td>0.0</td>\n",
       "      <td>8</td>\n",
       "      <td>0.1320</td>\n",
       "      <td>-7.064</td>\n",
       "      <td>1</td>\n",
       "      <td>0.0322</td>\n",
       "      <td>119.930</td>\n",
       "      <td>4</td>\n",
       "      <td>0.331</td>\n",
       "    </tr>\n",
       "    <tr>\n",
       "      <th>3</th>\n",
       "      <td>2014</td>\n",
       "      <td>Fancy</td>\n",
       "      <td>Iggy Azalea featuring Charli XCX</td>\n",
       "      <td>spotify:track:3oiMJQAWVaxSubJ7b2VUtX</td>\n",
       "      <td>0.10200</td>\n",
       "      <td>0.911</td>\n",
       "      <td>199938</td>\n",
       "      <td>0.707</td>\n",
       "      <td>0.0</td>\n",
       "      <td>8</td>\n",
       "      <td>0.0490</td>\n",
       "      <td>-4.136</td>\n",
       "      <td>1</td>\n",
       "      <td>0.0696</td>\n",
       "      <td>94.964</td>\n",
       "      <td>4</td>\n",
       "      <td>0.375</td>\n",
       "    </tr>\n",
       "    <tr>\n",
       "      <th>4</th>\n",
       "      <td>2014</td>\n",
       "      <td>Counting Stars</td>\n",
       "      <td>OneRepublic</td>\n",
       "      <td>spotify:track:6sy3LkhNFjJWlaeSMNwQ62</td>\n",
       "      <td>0.06490</td>\n",
       "      <td>0.663</td>\n",
       "      <td>257840</td>\n",
       "      <td>0.714</td>\n",
       "      <td>0.0</td>\n",
       "      <td>1</td>\n",
       "      <td>0.1160</td>\n",
       "      <td>-4.944</td>\n",
       "      <td>0</td>\n",
       "      <td>0.0380</td>\n",
       "      <td>121.990</td>\n",
       "      <td>4</td>\n",
       "      <td>0.468</td>\n",
       "    </tr>\n",
       "  </tbody>\n",
       "</table>\n",
       "</div>"
      ],
      "text/plain": [
       "   Year           Songs                           Artists  \\\n",
       "0  2014           Happy                 Pharrell Williams   \n",
       "1  2014      Dark Horse      Katy Perry featuring Juicy J   \n",
       "2  2014       All of Me                       John Legend   \n",
       "3  2014           Fancy  Iggy Azalea featuring Charli XCX   \n",
       "4  2014  Counting Stars                       OneRepublic   \n",
       "\n",
       "                               Track_ID  acousticness  danceability  \\\n",
       "0  spotify:track:6NPVjNh8Jhru9xOmyQigds       0.28600         0.652   \n",
       "1  spotify:track:5jrdCoLpJSvHHorevXBATy       0.00314         0.645   \n",
       "2  spotify:track:3U4isOIWM3VvDubwSI3y7a       0.92200         0.422   \n",
       "3  spotify:track:3oiMJQAWVaxSubJ7b2VUtX       0.10200         0.911   \n",
       "4  spotify:track:6sy3LkhNFjJWlaeSMNwQ62       0.06490         0.663   \n",
       "\n",
       "   duration_ms  energy  instrumentalness  key  liveness  loudness  mode  \\\n",
       "0       233305   0.757               0.0    1    0.0886    -6.819     1   \n",
       "1       215672   0.585               0.0    6    0.1650    -6.122     1   \n",
       "2       269560   0.264               0.0    8    0.1320    -7.064     1   \n",
       "3       199938   0.707               0.0    8    0.0490    -4.136     1   \n",
       "4       257840   0.714               0.0    1    0.1160    -4.944     0   \n",
       "\n",
       "   speechiness    tempo  time_signature  valence  \n",
       "0       0.1530  159.911               4    0.962  \n",
       "1       0.0513  131.931               4    0.353  \n",
       "2       0.0322  119.930               4    0.331  \n",
       "3       0.0696   94.964               4    0.375  \n",
       "4       0.0380  121.990               4    0.468  "
      ]
     },
     "execution_count": 7,
     "metadata": {},
     "output_type": "execute_result"
    }
   ],
   "source": [
    "df.head()"
   ]
  },
  {
   "cell_type": "code",
   "execution_count": 8,
   "metadata": {},
   "outputs": [
    {
     "name": "stderr",
     "output_type": "stream",
     "text": [
      "/Users/jkyung/anaconda3/lib/python3.6/site-packages/pandas/core/indexing.py:179: SettingWithCopyWarning: \n",
      "A value is trying to be set on a copy of a slice from a DataFrame\n",
      "\n",
      "See the caveats in the documentation: http://pandas.pydata.org/pandas-docs/stable/indexing.html#indexing-view-versus-copy\n",
      "  self._setitem_with_indexer(indexer, value)\n"
     ]
    }
   ],
   "source": [
    "df['top_10'] = 0\n",
    "df['top_10'].loc[0:9] = 1\n",
    "df['top_10'].loc[100:109] = 1\n",
    "df['top_10'].loc[200:209] = 1\n",
    "df['top_10'].loc[300:309] = 1"
   ]
  },
  {
   "cell_type": "code",
   "execution_count": 9,
   "metadata": {
    "collapsed": true
   },
   "outputs": [],
   "source": [
    "df_train = df.iloc[:300, :] # 2014-2016\n",
    "df_test = df.iloc[300:,:] # 2017"
   ]
  },
  {
   "cell_type": "code",
   "execution_count": 10,
   "metadata": {},
   "outputs": [
    {
     "data": {
      "text/html": [
       "<div>\n",
       "<style>\n",
       "    .dataframe thead tr:only-child th {\n",
       "        text-align: right;\n",
       "    }\n",
       "\n",
       "    .dataframe thead th {\n",
       "        text-align: left;\n",
       "    }\n",
       "\n",
       "    .dataframe tbody tr th {\n",
       "        vertical-align: top;\n",
       "    }\n",
       "</style>\n",
       "<table border=\"1\" class=\"dataframe\">\n",
       "  <thead>\n",
       "    <tr style=\"text-align: right;\">\n",
       "      <th></th>\n",
       "      <th>Year</th>\n",
       "      <th>Songs</th>\n",
       "      <th>Artists</th>\n",
       "      <th>Track_ID</th>\n",
       "      <th>acousticness</th>\n",
       "      <th>danceability</th>\n",
       "      <th>duration_ms</th>\n",
       "      <th>energy</th>\n",
       "      <th>instrumentalness</th>\n",
       "      <th>key</th>\n",
       "      <th>liveness</th>\n",
       "      <th>loudness</th>\n",
       "      <th>mode</th>\n",
       "      <th>speechiness</th>\n",
       "      <th>tempo</th>\n",
       "      <th>time_signature</th>\n",
       "      <th>valence</th>\n",
       "      <th>top_10</th>\n",
       "    </tr>\n",
       "  </thead>\n",
       "  <tbody>\n",
       "    <tr>\n",
       "      <th>300</th>\n",
       "      <td>2017</td>\n",
       "      <td>Shape of You</td>\n",
       "      <td>Ed Sheeran</td>\n",
       "      <td>spotify:track:7qiZfU4dY1lWllzX7mPBI3</td>\n",
       "      <td>0.581000</td>\n",
       "      <td>0.825</td>\n",
       "      <td>233713</td>\n",
       "      <td>0.652</td>\n",
       "      <td>0.000000</td>\n",
       "      <td>1</td>\n",
       "      <td>0.0931</td>\n",
       "      <td>-3.183</td>\n",
       "      <td>0</td>\n",
       "      <td>0.0802</td>\n",
       "      <td>95.977</td>\n",
       "      <td>4</td>\n",
       "      <td>0.931</td>\n",
       "      <td>1</td>\n",
       "    </tr>\n",
       "    <tr>\n",
       "      <th>301</th>\n",
       "      <td>2017</td>\n",
       "      <td>Despacito</td>\n",
       "      <td>Luis Fonsi and Daddy Yankee featuring Justin B...</td>\n",
       "      <td>spotify:track:6rPO02ozF3bM7NnOV4h6s2</td>\n",
       "      <td>0.222000</td>\n",
       "      <td>0.630</td>\n",
       "      <td>228827</td>\n",
       "      <td>0.815</td>\n",
       "      <td>0.000000</td>\n",
       "      <td>2</td>\n",
       "      <td>0.0910</td>\n",
       "      <td>-4.265</td>\n",
       "      <td>1</td>\n",
       "      <td>0.1520</td>\n",
       "      <td>88.357</td>\n",
       "      <td>4</td>\n",
       "      <td>0.813</td>\n",
       "      <td>1</td>\n",
       "    </tr>\n",
       "    <tr>\n",
       "      <th>302</th>\n",
       "      <td>2017</td>\n",
       "      <td>That's What I Like</td>\n",
       "      <td>Bruno Mars</td>\n",
       "      <td>spotify:track:0KKkJNfGyhkQ5aFogxQAPU</td>\n",
       "      <td>0.013000</td>\n",
       "      <td>0.853</td>\n",
       "      <td>206693</td>\n",
       "      <td>0.560</td>\n",
       "      <td>0.000000</td>\n",
       "      <td>1</td>\n",
       "      <td>0.0944</td>\n",
       "      <td>-4.961</td>\n",
       "      <td>1</td>\n",
       "      <td>0.0406</td>\n",
       "      <td>134.066</td>\n",
       "      <td>4</td>\n",
       "      <td>0.860</td>\n",
       "      <td>1</td>\n",
       "    </tr>\n",
       "    <tr>\n",
       "      <th>303</th>\n",
       "      <td>2017</td>\n",
       "      <td>Humble</td>\n",
       "      <td>Kendrick Lamar</td>\n",
       "      <td>spotify:track:7KXjTSCq5nL1LoYtL7XAwS</td>\n",
       "      <td>0.000259</td>\n",
       "      <td>0.904</td>\n",
       "      <td>177000</td>\n",
       "      <td>0.611</td>\n",
       "      <td>0.000020</td>\n",
       "      <td>1</td>\n",
       "      <td>0.0976</td>\n",
       "      <td>-6.842</td>\n",
       "      <td>0</td>\n",
       "      <td>0.0888</td>\n",
       "      <td>150.020</td>\n",
       "      <td>4</td>\n",
       "      <td>0.400</td>\n",
       "      <td>1</td>\n",
       "    </tr>\n",
       "    <tr>\n",
       "      <th>304</th>\n",
       "      <td>2017</td>\n",
       "      <td>Something Just Like This</td>\n",
       "      <td>The Chainsmokers and Coldplay</td>\n",
       "      <td>spotify:track:1dNIEtp7AY3oDAKCGg2XkH</td>\n",
       "      <td>0.030600</td>\n",
       "      <td>0.607</td>\n",
       "      <td>247627</td>\n",
       "      <td>0.649</td>\n",
       "      <td>0.000025</td>\n",
       "      <td>11</td>\n",
       "      <td>0.1740</td>\n",
       "      <td>-6.695</td>\n",
       "      <td>0</td>\n",
       "      <td>0.0362</td>\n",
       "      <td>102.996</td>\n",
       "      <td>4</td>\n",
       "      <td>0.505</td>\n",
       "      <td>1</td>\n",
       "    </tr>\n",
       "  </tbody>\n",
       "</table>\n",
       "</div>"
      ],
      "text/plain": [
       "     Year                     Songs  \\\n",
       "300  2017              Shape of You   \n",
       "301  2017                 Despacito   \n",
       "302  2017        That's What I Like   \n",
       "303  2017                    Humble   \n",
       "304  2017  Something Just Like This   \n",
       "\n",
       "                                               Artists  \\\n",
       "300                                         Ed Sheeran   \n",
       "301  Luis Fonsi and Daddy Yankee featuring Justin B...   \n",
       "302                                         Bruno Mars   \n",
       "303                                     Kendrick Lamar   \n",
       "304                      The Chainsmokers and Coldplay   \n",
       "\n",
       "                                 Track_ID  acousticness  danceability  \\\n",
       "300  spotify:track:7qiZfU4dY1lWllzX7mPBI3      0.581000         0.825   \n",
       "301  spotify:track:6rPO02ozF3bM7NnOV4h6s2      0.222000         0.630   \n",
       "302  spotify:track:0KKkJNfGyhkQ5aFogxQAPU      0.013000         0.853   \n",
       "303  spotify:track:7KXjTSCq5nL1LoYtL7XAwS      0.000259         0.904   \n",
       "304  spotify:track:1dNIEtp7AY3oDAKCGg2XkH      0.030600         0.607   \n",
       "\n",
       "     duration_ms  energy  instrumentalness  key  liveness  loudness  mode  \\\n",
       "300       233713   0.652          0.000000    1    0.0931    -3.183     0   \n",
       "301       228827   0.815          0.000000    2    0.0910    -4.265     1   \n",
       "302       206693   0.560          0.000000    1    0.0944    -4.961     1   \n",
       "303       177000   0.611          0.000020    1    0.0976    -6.842     0   \n",
       "304       247627   0.649          0.000025   11    0.1740    -6.695     0   \n",
       "\n",
       "     speechiness    tempo  time_signature  valence  top_10  \n",
       "300       0.0802   95.977               4    0.931       1  \n",
       "301       0.1520   88.357               4    0.813       1  \n",
       "302       0.0406  134.066               4    0.860       1  \n",
       "303       0.0888  150.020               4    0.400       1  \n",
       "304       0.0362  102.996               4    0.505       1  "
      ]
     },
     "execution_count": 10,
     "metadata": {},
     "output_type": "execute_result"
    }
   ],
   "source": [
    "df_test.head()"
   ]
  },
  {
   "cell_type": "code",
   "execution_count": 11,
   "metadata": {},
   "outputs": [
    {
     "name": "stdout",
     "output_type": "stream",
     "text": [
      "Number of observations in the training data: 300\n",
      "Number of observations in the test data: 100\n"
     ]
    }
   ],
   "source": [
    "print('Number of observations in the training data:', len(df_train))\n",
    "print('Number of observations in the test data:',len(df_test))"
   ]
  },
  {
   "cell_type": "code",
   "execution_count": 12,
   "metadata": {},
   "outputs": [
    {
     "data": {
      "text/plain": [
       "Index(['acousticness', 'danceability', 'duration_ms', 'energy',\n",
       "       'instrumentalness', 'key', 'liveness', 'loudness', 'mode',\n",
       "       'speechiness', 'tempo', 'time_signature', 'valence'],\n",
       "      dtype='object')"
      ]
     },
     "execution_count": 12,
     "metadata": {},
     "output_type": "execute_result"
    }
   ],
   "source": [
    "df_features = df.drop(['Year', 'Songs','Artists','Track_ID','top_10'], axis=1)\n",
    "features = df_features.columns[:]\n",
    "features"
   ]
  },
  {
   "cell_type": "code",
   "execution_count": 13,
   "metadata": {
    "collapsed": true
   },
   "outputs": [],
   "source": [
    "df_means = np.mean(df_train[features])\n",
    "df_std = np.std(df_train[features])\n",
    "df_train_features = (df_train[features] - df_means)/df_std\n",
    "df_test_features = (df_test[features] - df_means)/df_std"
   ]
  },
  {
   "cell_type": "code",
   "execution_count": 14,
   "metadata": {
    "collapsed": true
   },
   "outputs": [],
   "source": [
    "y = df_train['top_10']\n",
    "y2 = df_test['top_10']"
   ]
  },
  {
   "cell_type": "code",
   "execution_count": 15,
   "metadata": {},
   "outputs": [
    {
     "data": {
      "text/plain": [
       "RandomForestClassifier(bootstrap=True, class_weight='balanced',\n",
       "            criterion='gini', max_depth=None, max_features='auto',\n",
       "            max_leaf_nodes=None, min_impurity_decrease=0.0,\n",
       "            min_impurity_split=None, min_samples_leaf=1,\n",
       "            min_samples_split=2, min_weight_fraction_leaf=0.0,\n",
       "            n_estimators=1001, n_jobs=2, oob_score=False, random_state=0,\n",
       "            verbose=0, warm_start=False)"
      ]
     },
     "execution_count": 15,
     "metadata": {},
     "output_type": "execute_result"
    }
   ],
   "source": [
    "# Create a random forest Classifier. \n",
    "clf = RandomForestClassifier(n_jobs=2, random_state=0, n_estimators=1001, class_weight='balanced')\n",
    "\n",
    "# Train the Classifier to take the training features and learn how they relate\n",
    "# to the training y (the species)\n",
    "clf.fit(df_train_features, y)"
   ]
  },
  {
   "cell_type": "code",
   "execution_count": 16,
   "metadata": {},
   "outputs": [
    {
     "data": {
      "text/plain": [
       "array([0, 0, 0, 0, 0, 0, 1, 0, 0, 0, 0, 0, 0, 0, 0, 0, 0, 0, 0, 0, 0, 0, 0,\n",
       "       0, 0, 0, 0, 0, 0, 0, 0, 0, 0, 0, 0, 0, 0, 0, 0, 0, 0, 0, 0, 0, 0, 0,\n",
       "       0, 0, 1, 0, 0, 0, 0, 0, 0, 0, 0, 0, 0, 0, 0, 0, 0, 0, 0, 0, 0, 0, 0,\n",
       "       0, 0, 0, 0, 0, 0, 0, 0, 0, 0, 0, 0, 0, 0, 0, 0, 0, 0, 0, 0, 0, 0, 0,\n",
       "       0, 0, 0, 0, 0, 0, 0, 0])"
      ]
     },
     "execution_count": 16,
     "metadata": {},
     "output_type": "execute_result"
    }
   ],
   "source": [
    "preds = clf.predict(df_test_features)\n",
    "preds"
   ]
  },
  {
   "cell_type": "code",
   "execution_count": 17,
   "metadata": {},
   "outputs": [
    {
     "data": {
      "text/plain": [
       "array([[ 0.8415738 ,  0.1584262 ],\n",
       "       [ 0.89735528,  0.10264472],\n",
       "       [ 0.912978  ,  0.087022  ],\n",
       "       [ 0.87299454,  0.12700546],\n",
       "       [ 0.95564436,  0.04435564],\n",
       "       [ 0.90729271,  0.09270729],\n",
       "       [ 0.31383879,  0.68616121],\n",
       "       [ 0.78865685,  0.21134315],\n",
       "       [ 0.94497515,  0.05502485],\n",
       "       [ 0.93506494,  0.06493506]])"
      ]
     },
     "execution_count": 17,
     "metadata": {},
     "output_type": "execute_result"
    }
   ],
   "source": [
    "clf.predict_proba(df_test_features)[0:10]"
   ]
  },
  {
   "cell_type": "code",
   "execution_count": 18,
   "metadata": {},
   "outputs": [
    {
     "data": {
      "text/html": [
       "<div>\n",
       "<style>\n",
       "    .dataframe thead tr:only-child th {\n",
       "        text-align: right;\n",
       "    }\n",
       "\n",
       "    .dataframe thead th {\n",
       "        text-align: left;\n",
       "    }\n",
       "\n",
       "    .dataframe tbody tr th {\n",
       "        vertical-align: top;\n",
       "    }\n",
       "</style>\n",
       "<table border=\"1\" class=\"dataframe\">\n",
       "  <thead>\n",
       "    <tr style=\"text-align: right;\">\n",
       "      <th>Predicted Hit</th>\n",
       "      <th>0</th>\n",
       "      <th>1</th>\n",
       "    </tr>\n",
       "    <tr>\n",
       "      <th>Actual Hit</th>\n",
       "      <th></th>\n",
       "      <th></th>\n",
       "    </tr>\n",
       "  </thead>\n",
       "  <tbody>\n",
       "    <tr>\n",
       "      <th>0</th>\n",
       "      <td>89</td>\n",
       "      <td>1</td>\n",
       "    </tr>\n",
       "    <tr>\n",
       "      <th>1</th>\n",
       "      <td>9</td>\n",
       "      <td>1</td>\n",
       "    </tr>\n",
       "  </tbody>\n",
       "</table>\n",
       "</div>"
      ],
      "text/plain": [
       "Predicted Hit   0  1\n",
       "Actual Hit          \n",
       "0              89  1\n",
       "1               9  1"
      ]
     },
     "execution_count": 18,
     "metadata": {},
     "output_type": "execute_result"
    }
   ],
   "source": [
    "pd.crosstab(df_test['top_10'], preds, rownames=['Actual Hit'], colnames=['Predicted Hit'])"
   ]
  },
  {
   "cell_type": "code",
   "execution_count": 19,
   "metadata": {},
   "outputs": [
    {
     "data": {
      "text/plain": [
       "[('acousticness', 0.087207032792433276),\n",
       " ('danceability', 0.098921327097575493),\n",
       " ('duration_ms', 0.096781889837850563),\n",
       " ('energy', 0.090343528195510836),\n",
       " ('instrumentalness', 0.051386637300595117),\n",
       " ('key', 0.073958175239767596),\n",
       " ('liveness', 0.085725469617879427),\n",
       " ('loudness', 0.10469079172206663),\n",
       " ('mode', 0.023683742577832505),\n",
       " ('speechiness', 0.087471801537929356),\n",
       " ('tempo', 0.091638094754767571),\n",
       " ('time_signature', 0.0026525647082364426),\n",
       " ('valence', 0.1055389446175555)]"
      ]
     },
     "execution_count": 19,
     "metadata": {},
     "output_type": "execute_result"
    }
   ],
   "source": [
    "list(zip(df_train[features], clf.feature_importances_))"
   ]
  },
  {
   "cell_type": "code",
   "execution_count": 20,
   "metadata": {
    "collapsed": true
   },
   "outputs": [],
   "source": [
    "# Logistic Regression without any fine tuning\n",
    "logreg = LogisticRegression()"
   ]
  },
  {
   "cell_type": "code",
   "execution_count": 21,
   "metadata": {},
   "outputs": [
    {
     "name": "stdout",
     "output_type": "stream",
     "text": [
      "Optimization terminated successfully.\n",
      "         Current function value: 0.302326\n",
      "         Iterations 11\n",
      "                           Logit Regression Results                           \n",
      "==============================================================================\n",
      "Dep. Variable:                 top_10   No. Observations:                  300\n",
      "Model:                          Logit   Df Residuals:                      287\n",
      "Method:                           MLE   Df Model:                           12\n",
      "Date:                Mon, 13 Aug 2018   Pseudo R-squ.:                 0.07000\n",
      "Time:                        17:28:39   Log-Likelihood:                -90.698\n",
      "converged:                       True   LL-Null:                       -97.525\n",
      "                                        LLR p-value:                    0.3233\n",
      "====================================================================================\n",
      "                       coef    std err          z      P>|z|      [0.025      0.975]\n",
      "------------------------------------------------------------------------------------\n",
      "acousticness         0.4689      1.086      0.432      0.666      -1.660       2.598\n",
      "danceability         0.3631      1.820      0.200      0.842      -3.204       3.930\n",
      "duration_ms       3.942e-06   6.11e-06      0.645      0.519   -8.04e-06    1.59e-05\n",
      "energy              -2.0922      2.168     -0.965      0.335      -6.342       2.157\n",
      "instrumentalness   -15.1715     49.480     -0.307      0.759    -112.150      81.807\n",
      "key                 -0.1050      0.059     -1.794      0.073      -0.220       0.010\n",
      "liveness             0.0207      1.502      0.014      0.989      -2.923       2.964\n",
      "loudness             0.1259      0.143      0.881      0.378      -0.154       0.406\n",
      "mode                 0.4843      0.447      1.084      0.279      -0.392       1.360\n",
      "speechiness          1.9691      2.078      0.948      0.343      -2.104       6.042\n",
      "tempo               -0.0043      0.007     -0.614      0.540      -0.018       0.009\n",
      "time_signature      -0.4623      0.601     -0.770      0.441      -1.639       0.715\n",
      "valence              2.0960      1.167      1.795      0.073      -0.192       4.384\n",
      "====================================================================================\n"
     ]
    }
   ],
   "source": [
    "logit_model=sm.Logit(y,df_train[features])\n",
    "result=logit_model.fit()\n",
    "print(result.summary())"
   ]
  },
  {
   "cell_type": "code",
   "execution_count": 22,
   "metadata": {},
   "outputs": [
    {
     "name": "stdout",
     "output_type": "stream",
     "text": [
      "Best parameters were {'rf__max_depth': 20, 'rf__min_samples_leaf': 5, 'rf__min_samples_split': 2, 'rf__n_estimators': 51}\n",
      "Best average precision was 0.182476836836\n"
     ]
    }
   ],
   "source": [
    "from sklearn.ensemble import RandomForestClassifier\n",
    "from sklearn.model_selection import GridSearchCV \n",
    "\n",
    "clf = Pipeline([('sampling', SMOTE(random_state=42)), ('rf', RandomForestClassifier(random_state=42))])\n",
    "\n",
    "#Grid search with cross validation\n",
    "params = {\n",
    "    'rf__n_estimators': [11, 51, 101, 201],\n",
    "    'rf__max_depth': [10, 20, None],\n",
    "    'rf__min_samples_split': [2, 10, 20, 50],\n",
    "    'rf__min_samples_leaf': [1, 5, 10, 20]\n",
    "}\n",
    "\n",
    "model = GridSearchCV(clf, params, scoring='average_precision', n_jobs=-1)\n",
    "\n",
    "model.fit(df_train_features, y)\n",
    "\n",
    "print('Best parameters were', model.best_params_)\n",
    "print('Best average precision was', model.best_score_)"
   ]
  },
  {
   "cell_type": "code",
   "execution_count": 23,
   "metadata": {
    "collapsed": true
   },
   "outputs": [],
   "source": [
    "from scipy.stats import multivariate_normal\n",
    "from sklearn.metrics import f1_score"
   ]
  },
  {
   "cell_type": "code",
   "execution_count": 24,
   "metadata": {
    "collapsed": true
   },
   "outputs": [],
   "source": [
    "def read_dataset(filePath,delimiter=','):\n",
    "    return genfromtxt(filePath, delimiter=delimiter)\n",
    "\n",
    "def feature_normalize(dataset):\n",
    "    mu = np.mean(dataset,axis=0)\n",
    "    sigma = np.std(dataset,axis=0)\n",
    "    return (dataset - mu)/sigma\n",
    "\n",
    "def estimateGaussian(dataset):\n",
    "    mu = np.mean(dataset, axis=0)\n",
    "    sigma = np.cov(dataset.T)\n",
    "    return mu, sigma\n",
    "    \n",
    "def multivariateGaussian(dataset,mu,sigma):\n",
    "    p = multivariate_normal(mean=mu, cov=sigma)\n",
    "    return p.pdf(dataset)"
   ]
  },
  {
   "cell_type": "code",
   "execution_count": 25,
   "metadata": {
    "collapsed": true
   },
   "outputs": [],
   "source": [
    "def selectThresholdByCV(probs,gt):\n",
    "    best_epsilon = 0\n",
    "    best_f1 = 0\n",
    "    f = 0\n",
    "    stepsize = (max(probs) - min(probs)) / 1000;\n",
    "    epsilons = np.arange(min(probs),max(probs),stepsize)\n",
    "    for epsilon in np.nditer(epsilons):\n",
    "        predictions = (probs < epsilon)\n",
    "        f = f1_score(gt, predictions, average = \"binary\")\n",
    "        if f > best_f1:\n",
    "            best_f1 = f\n",
    "            best_epsilon = epsilon\n",
    "    return best_f1, best_epsilon"
   ]
  },
  {
   "cell_type": "code",
   "execution_count": 26,
   "metadata": {
    "collapsed": true
   },
   "outputs": [],
   "source": [
    "tr_data = df_train_features\n",
    "cv_data = df_test_features"
   ]
  },
  {
   "cell_type": "code",
   "execution_count": 27,
   "metadata": {},
   "outputs": [
    {
     "name": "stderr",
     "output_type": "stream",
     "text": [
      "/Users/jkyung/anaconda3/lib/python3.6/site-packages/sklearn/metrics/classification.py:1135: UndefinedMetricWarning: F-score is ill-defined and being set to 0.0 due to no predicted samples.\n",
      "  'precision', 'predicted', average, warn_for)\n"
     ]
    },
    {
     "name": "stdout",
     "output_type": "stream",
     "text": [
      "0.192771084337\n"
     ]
    }
   ],
   "source": [
    "mu, sigma = estimateGaussian(tr_data)\n",
    "p = multivariateGaussian(tr_data,mu,sigma)\n",
    "\n",
    "p_cv = multivariateGaussian(cv_data,mu,sigma)\n",
    "fscore, ep = selectThresholdByCV(p_cv,y2)\n",
    "outliers = np.asarray(np.where(p < ep))\n",
    "\n",
    "print(fscore)"
   ]
  },
  {
   "cell_type": "code",
   "execution_count": 28,
   "metadata": {
    "collapsed": true
   },
   "outputs": [],
   "source": [
    "# since neither SMOTE nor Anomaly detection gave good results (< 20% f=score), will build a recommendation system\n",
    "from sklearn.cluster import KMeans"
   ]
  },
  {
   "cell_type": "code",
   "execution_count": 29,
   "metadata": {
    "collapsed": true
   },
   "outputs": [],
   "source": [
    "model = KMeans(n_clusters=20)"
   ]
  },
  {
   "cell_type": "code",
   "execution_count": 30,
   "metadata": {},
   "outputs": [
    {
     "data": {
      "text/plain": [
       "KMeans(algorithm='auto', copy_x=True, init='k-means++', max_iter=300,\n",
       "    n_clusters=20, n_init=10, n_jobs=1, precompute_distances='auto',\n",
       "    random_state=None, tol=0.0001, verbose=0)"
      ]
     },
     "execution_count": 30,
     "metadata": {},
     "output_type": "execute_result"
    }
   ],
   "source": [
    "model.fit(df_train_features)"
   ]
  },
  {
   "cell_type": "code",
   "execution_count": 31,
   "metadata": {},
   "outputs": [
    {
     "name": "stdout",
     "output_type": "stream",
     "text": [
      "[13  1 12  1  3  4 13 13  2 12 15  4 13  1  3  1  8  4 12 16 12 10 10 10 10\n",
      "  2  2 10  2 17 15  1  2 15  0  4  3  1  5  5  1 18  1 12 10 14 15  5 13  2\n",
      "  0  4 16 16 16  5  9  5  1  3 10  9  1 15 16 10 15 14 16 14  6 17 13 14 15\n",
      " 13 17  5 14  1  5  3  1  1  5 10 16  5 16 17 13  4  9 15  7  8 19 12 15 17\n",
      " 17 17 16 13 17 10  1  4  8  3  1  5  0 18 14  3  2 13  0 14  9 13  1  5  4\n",
      " 12  3 13 15 17  4 13 18 12  0 10  3  5  9 10  4 12 14  1 14  9 17  5  4 16\n",
      " 19 15  3 14 16  3 14 12 14  9  5  5  8 18  2  5 15  3  5 16 10  4 15  4  2\n",
      "  8  1 11  4  2 12 17  7 17  1  1 13  7 16 10 15  4 15 10 16 13  9 12  7  5\n",
      " 19  2  4  1  2  7  0 14 10  1  5  4 16  5  5  1  5  2  3  1 16 15 10 17  5\n",
      " 14  4  5  3  6 18  3 14  1 16  8  4 11 10  5 16  8 10 12  1 14 15 14  5 18\n",
      " 15 19 16  9  1  4  7  7 16 12  8  4 15 12 16  3  5  9  2  7 11  5  3 16 17\n",
      " 11  7 13 14  3  2 16  0  5  3  5 19  4  5 16  1 17  2  1 15  8 14 15 16 10]\n"
     ]
    }
   ],
   "source": [
    "labels = model.predict(df_train_features)\n",
    "print(labels)"
   ]
  },
  {
   "cell_type": "code",
   "execution_count": 32,
   "metadata": {},
   "outputs": [
    {
     "name": "stdout",
     "output_type": "stream",
     "text": [
      "[18 10  1  2  5 17  1  1  5 15 12  1  7  7  1 17  5 15 17  7 16  2 13  5 17\n",
      " 17 10  4 16 10 18  1  8 18 16  1  7  1  5 10 17 10  7  5  2 15  7 16 10  5\n",
      " 14  5  7 14  7  3 12 16  3  7 13  7 13 16 16 16 12  1  5  1  2 15 10  5 10\n",
      " 15 12 17  7 17  2  1 16  0 10 17  0  3 15 11  1  5  1  4  1  1  3  8  2  5]\n"
     ]
    }
   ],
   "source": [
    "new_labels = model.predict(df_test_features) \n",
    "print(new_labels)"
   ]
  },
  {
   "cell_type": "code",
   "execution_count": 33,
   "metadata": {},
   "outputs": [
    {
     "name": "stdout",
     "output_type": "stream",
     "text": [
      "1567.488577\n"
     ]
    }
   ],
   "source": [
    "print(model.inertia_)"
   ]
  },
  {
   "cell_type": "code",
   "execution_count": 34,
   "metadata": {
    "collapsed": true
   },
   "outputs": [],
   "source": [
    "from sklearn.preprocessing import StandardScaler  \n",
    "from sklearn.pipeline import make_pipeline"
   ]
  },
  {
   "cell_type": "code",
   "execution_count": 35,
   "metadata": {
    "collapsed": true
   },
   "outputs": [],
   "source": [
    "scaler = StandardScaler()\n",
    "\n",
    "kmeans = KMeans(n_clusters=20)\n",
    "\n",
    "pipeline = make_pipeline(scaler, kmeans)"
   ]
  },
  {
   "cell_type": "code",
   "execution_count": 36,
   "metadata": {},
   "outputs": [
    {
     "data": {
      "text/plain": [
       "Pipeline(memory=None,\n",
       "     steps=[('standardscaler', StandardScaler(copy=True, with_mean=True, with_std=True)), ('kmeans', KMeans(algorithm='auto', copy_x=True, init='k-means++', max_iter=300,\n",
       "    n_clusters=20, n_init=10, n_jobs=1, precompute_distances='auto',\n",
       "    random_state=None, tol=0.0001, verbose=0))])"
      ]
     },
     "execution_count": 36,
     "metadata": {},
     "output_type": "execute_result"
    }
   ],
   "source": [
    "pipeline.fit(df_train_features)"
   ]
  },
  {
   "cell_type": "code",
   "execution_count": 37,
   "metadata": {},
   "outputs": [
    {
     "name": "stdout",
     "output_type": "stream",
     "text": [
      "[ 7  4 16 12  0 11 12 12  0  3 12 11  7 12  0 12 13 11  3 17  3  4  4  4 10\n",
      "  0 14  4  0 15 12 12  0 12  1 15  0 12  5  5 11 15 17  3  4 14  4  5 12 12\n",
      "  1  9  5 17 17  5  9  5 12  0  3 14 12  7 17  4 12  7 17 14 19 15  7  7 12\n",
      "  7  4  5  7 12  5  0 15 12  5  4 17  5  1 15  7 11 14 12  1 18  6  3 12  4\n",
      " 15 15 17 12 15  4 12 11 18  0 12  5  1  3  7  0  0  7  0  7  2 12 12  5 11\n",
      "  3  0 12  4 15 11 12  3 16  1  4  0  5  9 10 17  3 14 12  7 14 15  5 11 17\n",
      "  6  4  0 14 15  0  7  3 14  9  5  5 13  3  0  5 17  0  5 17  3 11 12 11 11\n",
      " 18 12 16 17 14 16 15 17 15 12 12  7  6 17 10  7  9 12  4 17  7 14  3  6  5\n",
      "  6  0 11 17  0  6  1  7  4  3  5 11 17  5  5 12  5  5  0  4 17 12  4 15  5\n",
      " 14  4  5  0  8  3  0  7 17 17 18 11 16  4  5 17 18  3 16 12 14  4  7  5  3\n",
      "  4  6 17  2 12 11  6  7 17  3 18 11 12  3  1  0  5  2  0 14 16  5  0  1 15\n",
      " 16 14  7  7  0  0 17  1  5  0  5  6 11  5  5 11  4  0  3  4 13 14  4 17  4]\n"
     ]
    }
   ],
   "source": [
    "labels_p = pipeline.predict(df_train_features)\n",
    "print(labels_p)"
   ]
  },
  {
   "cell_type": "code",
   "execution_count": 39,
   "metadata": {},
   "outputs": [
    {
     "name": "stdout",
     "output_type": "stream",
     "text": [
      "[ 3  4 12  0  5 15  3  3  5 12  3  4  5 17 12 12  5 12 15  7  6  5 12  5 15\n",
      " 15  4  6 17  4  3 11 18  0 17 17  6 17  5  4  4  4 14  5  0  4  5 17  4  5\n",
      "  4  5 15  5  1  0  3 17  0  6 12 17 11 17  1 17  3 12  5 17  0 12  4  5  4\n",
      "  4  3 17 14 15  5  3 17  4 12 15  1  0  7 16 17  5 17 11  7  4  0 18 17  5]\n"
     ]
    }
   ],
   "source": [
    "new_labels_p = pipeline.predict(df_test_features) \n",
    "print(new_labels_p)"
   ]
  },
  {
   "cell_type": "code",
   "execution_count": 40,
   "metadata": {},
   "outputs": [
    {
     "name": "stdout",
     "output_type": "stream",
     "text": [
      "1590.30266571\n"
     ]
    }
   ],
   "source": [
    "print(kmeans.inertia_)\n",
    "#lower inertia with standard scaler"
   ]
  },
  {
   "cell_type": "code",
   "execution_count": 41,
   "metadata": {},
   "outputs": [
    {
     "data": {
      "text/plain": [
       "array([ 7,  4, 16, 12,  0, 11, 12, 12,  0,  3, 12, 11,  7, 12,  0, 12, 13,\n",
       "       11,  3, 17,  3,  4,  4,  4, 10,  0, 14,  4,  0, 15, 12, 12,  0, 12,\n",
       "        1, 15,  0, 12,  5,  5, 11, 15, 17,  3,  4, 14,  4,  5, 12, 12,  1,\n",
       "        9,  5, 17, 17,  5,  9,  5, 12,  0,  3, 14, 12,  7, 17,  4, 12,  7,\n",
       "       17, 14, 19, 15,  7,  7, 12,  7,  4,  5,  7, 12,  5,  0, 15, 12,  5,\n",
       "        4, 17,  5,  1, 15,  7, 11, 14, 12,  1, 18,  6,  3, 12,  4, 15, 15,\n",
       "       17, 12, 15,  4, 12, 11, 18,  0, 12,  5,  1,  3,  7,  0,  0,  7,  0,\n",
       "        7,  2, 12, 12,  5, 11,  3,  0, 12,  4, 15, 11, 12,  3, 16,  1,  4,\n",
       "        0,  5,  9, 10, 17,  3, 14, 12,  7, 14, 15,  5, 11, 17,  6,  4,  0,\n",
       "       14, 15,  0,  7,  3, 14,  9,  5,  5, 13,  3,  0,  5, 17,  0,  5, 17,\n",
       "        3, 11, 12, 11, 11, 18, 12, 16, 17, 14, 16, 15, 17, 15, 12, 12,  7,\n",
       "        6, 17, 10,  7,  9, 12,  4, 17,  7, 14,  3,  6,  5,  6,  0, 11, 17,\n",
       "        0,  6,  1,  7,  4,  3,  5, 11, 17,  5,  5, 12,  5,  5,  0,  4, 17,\n",
       "       12,  4, 15,  5, 14,  4,  5,  0,  8,  3,  0,  7, 17, 17, 18, 11, 16,\n",
       "        4,  5, 17, 18,  3, 16, 12, 14,  4,  7,  5,  3,  4,  6, 17,  2, 12,\n",
       "       11,  6,  7, 17,  3, 18, 11, 12,  3,  1,  0,  5,  2,  0, 14, 16,  5,\n",
       "        0,  1, 15, 16, 14,  7,  7,  0,  0, 17,  1,  5,  0,  5,  6, 11,  5,\n",
       "        5, 11,  4,  0,  3,  4, 13, 14,  4, 17,  4,  3,  4, 12,  0,  5, 15,\n",
       "        3,  3,  5, 12,  3,  4,  5, 17, 12, 12,  5, 12, 15,  7,  6,  5, 12,\n",
       "        5, 15, 15,  4,  6, 17,  4,  3, 11, 18,  0, 17, 17,  6, 17,  5,  4,\n",
       "        4,  4, 14,  5,  0,  4,  5, 17,  4,  5,  4,  5, 15,  5,  1,  0,  3,\n",
       "       17,  0,  6, 12, 17, 11, 17,  1, 17,  3, 12,  5, 17,  0, 12,  4,  5,\n",
       "        4,  4,  3, 17, 14, 15,  5,  3, 17,  4, 12, 15,  1,  0,  7, 16, 17,\n",
       "        5, 17, 11,  7,  4,  0, 18, 17,  5], dtype=int32)"
      ]
     },
     "execution_count": 41,
     "metadata": {},
     "output_type": "execute_result"
    }
   ],
   "source": [
    "all_labels = np.concatenate((labels_p, new_labels_p))\n",
    "all_labels"
   ]
  },
  {
   "cell_type": "code",
   "execution_count": 42,
   "metadata": {},
   "outputs": [
    {
     "data": {
      "text/html": [
       "<div>\n",
       "<style>\n",
       "    .dataframe thead tr:only-child th {\n",
       "        text-align: right;\n",
       "    }\n",
       "\n",
       "    .dataframe thead th {\n",
       "        text-align: left;\n",
       "    }\n",
       "\n",
       "    .dataframe tbody tr th {\n",
       "        vertical-align: top;\n",
       "    }\n",
       "</style>\n",
       "<table border=\"1\" class=\"dataframe\">\n",
       "  <thead>\n",
       "    <tr style=\"text-align: right;\">\n",
       "      <th></th>\n",
       "      <th>artists</th>\n",
       "      <th>labels</th>\n",
       "      <th>songs</th>\n",
       "    </tr>\n",
       "  </thead>\n",
       "  <tbody>\n",
       "    <tr>\n",
       "      <th>0</th>\n",
       "      <td>Pharrell Williams</td>\n",
       "      <td>7</td>\n",
       "      <td>Happy</td>\n",
       "    </tr>\n",
       "    <tr>\n",
       "      <th>1</th>\n",
       "      <td>Katy Perry featuring Juicy J</td>\n",
       "      <td>4</td>\n",
       "      <td>Dark Horse</td>\n",
       "    </tr>\n",
       "    <tr>\n",
       "      <th>2</th>\n",
       "      <td>John Legend</td>\n",
       "      <td>16</td>\n",
       "      <td>All of Me</td>\n",
       "    </tr>\n",
       "    <tr>\n",
       "      <th>3</th>\n",
       "      <td>Iggy Azalea featuring Charli XCX</td>\n",
       "      <td>12</td>\n",
       "      <td>Fancy</td>\n",
       "    </tr>\n",
       "    <tr>\n",
       "      <th>4</th>\n",
       "      <td>OneRepublic</td>\n",
       "      <td>0</td>\n",
       "      <td>Counting Stars</td>\n",
       "    </tr>\n",
       "  </tbody>\n",
       "</table>\n",
       "</div>"
      ],
      "text/plain": [
       "                            artists  labels           songs\n",
       "0                 Pharrell Williams       7           Happy\n",
       "1      Katy Perry featuring Juicy J       4      Dark Horse\n",
       "2                       John Legend      16       All of Me\n",
       "3  Iggy Azalea featuring Charli XCX      12           Fancy\n",
       "4                       OneRepublic       0  Counting Stars"
      ]
     },
     "execution_count": 42,
     "metadata": {},
     "output_type": "execute_result"
    }
   ],
   "source": [
    "Songs = df['Songs']\n",
    "Artists = df['Artists']\n",
    "df_cluster = pd.DataFrame({'labels': all_labels, 'songs': Songs, 'artists': Artists})\n",
    "df_cluster.transpose()\n",
    "df_cluster.head()"
   ]
  },
  {
   "cell_type": "code",
   "execution_count": 43,
   "metadata": {},
   "outputs": [
    {
     "data": {
      "text/html": [
       "<div>\n",
       "<style>\n",
       "    .dataframe thead tr:only-child th {\n",
       "        text-align: right;\n",
       "    }\n",
       "\n",
       "    .dataframe thead th {\n",
       "        text-align: left;\n",
       "    }\n",
       "\n",
       "    .dataframe tbody tr th {\n",
       "        vertical-align: top;\n",
       "    }\n",
       "</style>\n",
       "<table border=\"1\" class=\"dataframe\">\n",
       "  <thead>\n",
       "    <tr style=\"text-align: right;\">\n",
       "      <th></th>\n",
       "      <th>artists</th>\n",
       "      <th>songs</th>\n",
       "    </tr>\n",
       "    <tr>\n",
       "      <th>labels</th>\n",
       "      <th></th>\n",
       "      <th></th>\n",
       "    </tr>\n",
       "  </thead>\n",
       "  <tbody>\n",
       "    <tr>\n",
       "      <th>0</th>\n",
       "      <td>39</td>\n",
       "      <td>39</td>\n",
       "    </tr>\n",
       "    <tr>\n",
       "      <th>1</th>\n",
       "      <td>13</td>\n",
       "      <td>13</td>\n",
       "    </tr>\n",
       "    <tr>\n",
       "      <th>2</th>\n",
       "      <td>3</td>\n",
       "      <td>3</td>\n",
       "    </tr>\n",
       "    <tr>\n",
       "      <th>3</th>\n",
       "      <td>30</td>\n",
       "      <td>30</td>\n",
       "    </tr>\n",
       "    <tr>\n",
       "      <th>4</th>\n",
       "      <td>42</td>\n",
       "      <td>42</td>\n",
       "    </tr>\n",
       "    <tr>\n",
       "      <th>5</th>\n",
       "      <td>51</td>\n",
       "      <td>51</td>\n",
       "    </tr>\n",
       "    <tr>\n",
       "      <th>6</th>\n",
       "      <td>13</td>\n",
       "      <td>13</td>\n",
       "    </tr>\n",
       "    <tr>\n",
       "      <th>7</th>\n",
       "      <td>26</td>\n",
       "      <td>26</td>\n",
       "    </tr>\n",
       "    <tr>\n",
       "      <th>8</th>\n",
       "      <td>1</td>\n",
       "      <td>1</td>\n",
       "    </tr>\n",
       "    <tr>\n",
       "      <th>9</th>\n",
       "      <td>5</td>\n",
       "      <td>5</td>\n",
       "    </tr>\n",
       "    <tr>\n",
       "      <th>10</th>\n",
       "      <td>3</td>\n",
       "      <td>3</td>\n",
       "    </tr>\n",
       "    <tr>\n",
       "      <th>11</th>\n",
       "      <td>22</td>\n",
       "      <td>22</td>\n",
       "    </tr>\n",
       "    <tr>\n",
       "      <th>12</th>\n",
       "      <td>48</td>\n",
       "      <td>48</td>\n",
       "    </tr>\n",
       "    <tr>\n",
       "      <th>13</th>\n",
       "      <td>3</td>\n",
       "      <td>3</td>\n",
       "    </tr>\n",
       "    <tr>\n",
       "      <th>14</th>\n",
       "      <td>18</td>\n",
       "      <td>18</td>\n",
       "    </tr>\n",
       "    <tr>\n",
       "      <th>15</th>\n",
       "      <td>23</td>\n",
       "      <td>23</td>\n",
       "    </tr>\n",
       "    <tr>\n",
       "      <th>16</th>\n",
       "      <td>9</td>\n",
       "      <td>9</td>\n",
       "    </tr>\n",
       "    <tr>\n",
       "      <th>17</th>\n",
       "      <td>42</td>\n",
       "      <td>42</td>\n",
       "    </tr>\n",
       "    <tr>\n",
       "      <th>18</th>\n",
       "      <td>8</td>\n",
       "      <td>8</td>\n",
       "    </tr>\n",
       "    <tr>\n",
       "      <th>19</th>\n",
       "      <td>1</td>\n",
       "      <td>1</td>\n",
       "    </tr>\n",
       "  </tbody>\n",
       "</table>\n",
       "</div>"
      ],
      "text/plain": [
       "        artists  songs\n",
       "labels                \n",
       "0            39     39\n",
       "1            13     13\n",
       "2             3      3\n",
       "3            30     30\n",
       "4            42     42\n",
       "5            51     51\n",
       "6            13     13\n",
       "7            26     26\n",
       "8             1      1\n",
       "9             5      5\n",
       "10            3      3\n",
       "11           22     22\n",
       "12           48     48\n",
       "13            3      3\n",
       "14           18     18\n",
       "15           23     23\n",
       "16            9      9\n",
       "17           42     42\n",
       "18            8      8\n",
       "19            1      1"
      ]
     },
     "execution_count": 43,
     "metadata": {},
     "output_type": "execute_result"
    }
   ],
   "source": [
    "df_cluster.groupby('labels').count()"
   ]
  },
  {
   "cell_type": "code",
   "execution_count": 44,
   "metadata": {},
   "outputs": [
    {
     "data": {
      "text/plain": [
       "labels  artists                                        songs                  \n",
       "0       Adele                                          Water Under the Bridge     1\n",
       "        Ariana Grande and The Weeknd                   Love Me Harder             1\n",
       "        Ariana Grande featuring Iggy Azalea            Problem                    1\n",
       "        Ariana Grande featuring Zedd                   Break Free                 1\n",
       "        Avicii                                         Hey Brother                1\n",
       "        Calvin Harris                                  Summer                     1\n",
       "        Calvin Harris featuring Frank Ocean and Migos  Slide                      1\n",
       "        Coldplay                                       Hymn for the Weekend       1\n",
       "        DJ Snake and Lil Jon                           Turn Down for What         1\n",
       "        DJ Snake featuring Bipolar Sunshine            Middle                     1\n",
       "        Demi Lovato                                    Cool for the Summer        1\n",
       "        Drake featuring Rihanna                        Too Good                   1\n",
       "        Ellie Goulding                                 On My Mind                 1\n",
       "        Fifth Harmony featuring Fetty Wap              All In My Head (Flex)      1\n",
       "        G-Eazy and Bebe Rexha                          Me, Myself & I             1\n",
       "        Halsey                                         Now or Never               1\n",
       "        Iggy Azalea featuring Rita Ora                 Black Widow                1\n",
       "        Jason Derulo                                   Want to Want Me            1\n",
       "        Justin Bieber                                  Sorry                      1\n",
       "        Kendrick Lamar                                 Humble                     1\n",
       "        Major Lazer and DJ Snake featuring MØ          Lean On                    2\n",
       "        Maroon 5                                       Maps                       1\n",
       "        Maroon 5 featuring SZA                         What Lovers Do             1\n",
       "        Naughty Boy featuring Sam Smith                La La La                   1\n",
       "        Nick Jonas                                     Chains                     1\n",
       "        Nick Jonas featuring Tove Lo                   Close                      1\n",
       "        One Direction                                  Drag Me Down               1\n",
       "        OneRepublic                                    Counting Stars             1\n",
       "        Portugal. The Man                              Feel It Still              1\n",
       "        Post Malone featuring 21 Savage                Rockstar                   1\n",
       "                                                                                 ..\n",
       "17      Julia Michaels                                 Issues                     1\n",
       "        Kendrick Lamar                                 DNA                        1\n",
       "        Kendrick Lamar featuring Rihanna               Loyalty                    1\n",
       "        Khalid                                         Young Dumb & Broke         1\n",
       "        Kid Ink featuring Chris Brown                  Show Me                    1\n",
       "        Liam Payne featuring Quavo                     Strip That Down            1\n",
       "        Lorde                                          Royals                     1\n",
       "        Maroon 5 featuring Kendrick Lamar              Don't Wanna Know           1\n",
       "        Mr Probz                                       Waves                      1\n",
       "        Natalie La Rose featuring Jeremih              Somebody                   1\n",
       "        O.T. Genasis                                   CoCo                       1\n",
       "        Rae Sremmurd                                   No Type                    1\n",
       "                                                       Swang                      1\n",
       "        Rihanna                                        Needed Me                  1\n",
       "        Rihanna featuring Drake                        Work                       1\n",
       "        T-Wayne                                        Nasty Freestyle            1\n",
       "        T.I. featuring Iggy Azalea                     No Mediocre                1\n",
       "        Tinashe featuring ScHoolboy Q                  2 On                       1\n",
       "        Twenty One Pilots                              Heathens                   2\n",
       "        Wiz Khalifa featuring Charlie Puth             See You Again              2\n",
       "        XXXTentacion                                   Look at Me!                1\n",
       "        iLoveMemphis                                   Hit the Quan               1\n",
       "18      Ariana Grande                                  Dangerous Woman            1\n",
       "        Blackbear                                      Do Re Mi                   1\n",
       "        Meghan Trainor featuring John Legend           Like I'm Gonna Lose You    2\n",
       "        Rihanna                                        Love on the Brain          1\n",
       "        ScHoolboy Q featuring BJ the Chicago Kid       Studio                     1\n",
       "        The Weeknd                                     Earned It                  1\n",
       "                                                       In the Night               1\n",
       "19      Martin Garrix                                  Animals                    1\n",
       "Length: 370, dtype: int64"
      ]
     },
     "execution_count": 44,
     "metadata": {},
     "output_type": "execute_result"
    }
   ],
   "source": [
    "df_cluster.pivot_table(index=['labels','artists','songs'],fill_value=0, aggfunc='size')"
   ]
  },
  {
   "cell_type": "code",
   "execution_count": 45,
   "metadata": {
    "collapsed": true
   },
   "outputs": [],
   "source": [
    "username='username'\n",
    "\n",
    "my_client_id='my_client_id'\n",
    "my_client_secret='my_client_secret'\n",
    " \n",
    "scope = 'user-library-read playlist-modify-public playlist-modify-private'"
   ]
  },
  {
   "cell_type": "code",
   "execution_count": 53,
   "metadata": {},
   "outputs": [],
   "source": [
    "token = util.prompt_for_user_token(username, scope,client_id=my_client_id,client_secret=my_client_secret,redirect_uri='http://localhost:8888/')\n",
    "myAuth=\"Bearer \" + token\n",
    "\n",
    "sp = spotipy.Spotify(auth=token)"
   ]
  },
  {
   "cell_type": "code",
   "execution_count": 88,
   "metadata": {},
   "outputs": [],
   "source": [
    "def song_recommendations(track, artist):\n",
    "    if 'featuring' in artist:\n",
    "        artist = artist.split('featuring')[0]\n",
    "    elif ' and ' in artist:\n",
    "        artist = artist.split(' and ')[0]\n",
    "\n",
    "    query = 'track:' + track + ' artist:' + artist\n",
    "    track_id = sp.search(q=query , type='track')\n",
    "    tid = track_id['tracks']['items'][0]['uri']\n",
    "    feature = sp.audio_features(tid)\n",
    "    df_feature = pd.DataFrame(feature)\n",
    "    df_feature.drop(['analysis_url', 'id', 'track_href','uri','type'], inplace = True, axis=1)\n",
    "    df_topredict = (df_feature - df_means)/df_std\n",
    "    song_label = pipeline.predict(df_topredict)\n",
    "    recommendations = df_cluster.loc[df_cluster['labels'] == song_label[0]]\n",
    "    \n",
    "    return recommendations"
   ]
  },
  {
   "cell_type": "code",
   "execution_count": 93,
   "metadata": {},
   "outputs": [
    {
     "data": {
      "text/html": [
       "<div>\n",
       "<style>\n",
       "    .dataframe thead tr:only-child th {\n",
       "        text-align: right;\n",
       "    }\n",
       "\n",
       "    .dataframe thead th {\n",
       "        text-align: left;\n",
       "    }\n",
       "\n",
       "    .dataframe tbody tr th {\n",
       "        vertical-align: top;\n",
       "    }\n",
       "</style>\n",
       "<table border=\"1\" class=\"dataframe\">\n",
       "  <thead>\n",
       "    <tr style=\"text-align: right;\">\n",
       "      <th></th>\n",
       "      <th>artists</th>\n",
       "      <th>labels</th>\n",
       "      <th>songs</th>\n",
       "    </tr>\n",
       "  </thead>\n",
       "  <tbody>\n",
       "    <tr>\n",
       "      <th>1</th>\n",
       "      <td>Katy Perry featuring Juicy J</td>\n",
       "      <td>4</td>\n",
       "      <td>Dark Horse</td>\n",
       "    </tr>\n",
       "    <tr>\n",
       "      <th>21</th>\n",
       "      <td>Avicii</td>\n",
       "      <td>4</td>\n",
       "      <td>Wake Me Up</td>\n",
       "    </tr>\n",
       "    <tr>\n",
       "      <th>22</th>\n",
       "      <td>Imagine Dragons</td>\n",
       "      <td>4</td>\n",
       "      <td>Demons</td>\n",
       "    </tr>\n",
       "    <tr>\n",
       "      <th>23</th>\n",
       "      <td>One Direction</td>\n",
       "      <td>4</td>\n",
       "      <td>Story of My Life</td>\n",
       "    </tr>\n",
       "    <tr>\n",
       "      <th>27</th>\n",
       "      <td>Disclosure featuring Sam Smith</td>\n",
       "      <td>4</td>\n",
       "      <td>Latch</td>\n",
       "    </tr>\n",
       "    <tr>\n",
       "      <th>44</th>\n",
       "      <td>Justin Timberlake</td>\n",
       "      <td>4</td>\n",
       "      <td>Not a Bad Thing</td>\n",
       "    </tr>\n",
       "    <tr>\n",
       "      <th>46</th>\n",
       "      <td>Paramore</td>\n",
       "      <td>4</td>\n",
       "      <td>Ain't It Fun</td>\n",
       "    </tr>\n",
       "    <tr>\n",
       "      <th>65</th>\n",
       "      <td>Florida Georgia Line</td>\n",
       "      <td>4</td>\n",
       "      <td>Dirt</td>\n",
       "    </tr>\n",
       "    <tr>\n",
       "      <th>76</th>\n",
       "      <td>Chris Brown featuring Usher and Rick Ross</td>\n",
       "      <td>4</td>\n",
       "      <td>New Flame</td>\n",
       "    </tr>\n",
       "    <tr>\n",
       "      <th>85</th>\n",
       "      <td>5 Seconds of Summer</td>\n",
       "      <td>4</td>\n",
       "      <td>Amnesia</td>\n",
       "    </tr>\n",
       "    <tr>\n",
       "      <th>99</th>\n",
       "      <td>Miley Cyrus</td>\n",
       "      <td>4</td>\n",
       "      <td>Adore You</td>\n",
       "    </tr>\n",
       "    <tr>\n",
       "      <th>105</th>\n",
       "      <td>Walk the Moon</td>\n",
       "      <td>4</td>\n",
       "      <td>Shut Up and Dance</td>\n",
       "    </tr>\n",
       "    <tr>\n",
       "      <th>128</th>\n",
       "      <td>Taylor Swift</td>\n",
       "      <td>4</td>\n",
       "      <td>Style</td>\n",
       "    </tr>\n",
       "    <tr>\n",
       "      <th>135</th>\n",
       "      <td>Shawn Mendes</td>\n",
       "      <td>4</td>\n",
       "      <td>Stitches</td>\n",
       "    </tr>\n",
       "    <tr>\n",
       "      <th>151</th>\n",
       "      <td>Sia</td>\n",
       "      <td>4</td>\n",
       "      <td>Elastic Heart</td>\n",
       "    </tr>\n",
       "    <tr>\n",
       "      <th>193</th>\n",
       "      <td>Alessia Cara</td>\n",
       "      <td>4</td>\n",
       "      <td>Here</td>\n",
       "    </tr>\n",
       "    <tr>\n",
       "      <th>208</th>\n",
       "      <td>Justin Timberlake</td>\n",
       "      <td>4</td>\n",
       "      <td>Can't Stop the Feeling!</td>\n",
       "    </tr>\n",
       "    <tr>\n",
       "      <th>219</th>\n",
       "      <td>Twenty One Pilots</td>\n",
       "      <td>4</td>\n",
       "      <td>Ride</td>\n",
       "    </tr>\n",
       "    <tr>\n",
       "      <th>222</th>\n",
       "      <td>Shawn Mendes</td>\n",
       "      <td>4</td>\n",
       "      <td>Stitches</td>\n",
       "    </tr>\n",
       "    <tr>\n",
       "      <th>226</th>\n",
       "      <td>The Chainsmokers featuring Rozes</td>\n",
       "      <td>4</td>\n",
       "      <td>Roses</td>\n",
       "    </tr>\n",
       "    <tr>\n",
       "      <th>238</th>\n",
       "      <td>Alessia Cara</td>\n",
       "      <td>4</td>\n",
       "      <td>Here</td>\n",
       "    </tr>\n",
       "    <tr>\n",
       "      <th>246</th>\n",
       "      <td>DJ Snake featuring Justin Bieber</td>\n",
       "      <td>4</td>\n",
       "      <td>Let Me Love You</td>\n",
       "    </tr>\n",
       "    <tr>\n",
       "      <th>250</th>\n",
       "      <td>Ariana Grande</td>\n",
       "      <td>4</td>\n",
       "      <td>Into You</td>\n",
       "    </tr>\n",
       "    <tr>\n",
       "      <th>291</th>\n",
       "      <td>Kevin Gates</td>\n",
       "      <td>4</td>\n",
       "      <td>Really Really</td>\n",
       "    </tr>\n",
       "    <tr>\n",
       "      <th>294</th>\n",
       "      <td>Coldplay</td>\n",
       "      <td>4</td>\n",
       "      <td>Adventure of a Lifetime</td>\n",
       "    </tr>\n",
       "    <tr>\n",
       "      <th>297</th>\n",
       "      <td>Desiigner</td>\n",
       "      <td>4</td>\n",
       "      <td>Tiimmy Turner</td>\n",
       "    </tr>\n",
       "    <tr>\n",
       "      <th>299</th>\n",
       "      <td>One Direction</td>\n",
       "      <td>4</td>\n",
       "      <td>Perfect</td>\n",
       "    </tr>\n",
       "    <tr>\n",
       "      <th>301</th>\n",
       "      <td>Luis Fonsi and Daddy Yankee featuring Justin B...</td>\n",
       "      <td>4</td>\n",
       "      <td>Despacito</td>\n",
       "    </tr>\n",
       "    <tr>\n",
       "      <th>311</th>\n",
       "      <td>DJ Khaled featuring Justin Bieber, Quavo, Chan...</td>\n",
       "      <td>4</td>\n",
       "      <td>I'm the One</td>\n",
       "    </tr>\n",
       "    <tr>\n",
       "      <th>326</th>\n",
       "      <td>Kygo and Selena Gomez</td>\n",
       "      <td>4</td>\n",
       "      <td>It Ain't Me</td>\n",
       "    </tr>\n",
       "    <tr>\n",
       "      <th>329</th>\n",
       "      <td>Alessia Cara</td>\n",
       "      <td>4</td>\n",
       "      <td>Scars to Your Beautiful</td>\n",
       "    </tr>\n",
       "    <tr>\n",
       "      <th>339</th>\n",
       "      <td>Ed Sheeran</td>\n",
       "      <td>4</td>\n",
       "      <td>Castle on the Hill</td>\n",
       "    </tr>\n",
       "    <tr>\n",
       "      <th>340</th>\n",
       "      <td>Machine Gun Kelly and Camila Cabello</td>\n",
       "      <td>4</td>\n",
       "      <td>Bad Things</td>\n",
       "    </tr>\n",
       "    <tr>\n",
       "      <th>341</th>\n",
       "      <td>The Chainsmokers</td>\n",
       "      <td>4</td>\n",
       "      <td>Paris</td>\n",
       "    </tr>\n",
       "    <tr>\n",
       "      <th>345</th>\n",
       "      <td>DJ Snake featuring Justin Bieber</td>\n",
       "      <td>4</td>\n",
       "      <td>Let Me Love You</td>\n",
       "    </tr>\n",
       "    <tr>\n",
       "      <th>348</th>\n",
       "      <td>Justin Timberlake</td>\n",
       "      <td>4</td>\n",
       "      <td>Can't Stop the Feeling!</td>\n",
       "    </tr>\n",
       "    <tr>\n",
       "      <th>350</th>\n",
       "      <td>Imagine Dragons</td>\n",
       "      <td>4</td>\n",
       "      <td>Thunder</td>\n",
       "    </tr>\n",
       "    <tr>\n",
       "      <th>372</th>\n",
       "      <td>Katy Perry featuring Skip Marley</td>\n",
       "      <td>4</td>\n",
       "      <td>Chained to the Rhythm</td>\n",
       "    </tr>\n",
       "    <tr>\n",
       "      <th>374</th>\n",
       "      <td>Jon Bellion</td>\n",
       "      <td>4</td>\n",
       "      <td>All Time Low</td>\n",
       "    </tr>\n",
       "    <tr>\n",
       "      <th>375</th>\n",
       "      <td>Luke Combs</td>\n",
       "      <td>4</td>\n",
       "      <td>Hurricane</td>\n",
       "    </tr>\n",
       "    <tr>\n",
       "      <th>383</th>\n",
       "      <td>Pink</td>\n",
       "      <td>4</td>\n",
       "      <td>What About Us</td>\n",
       "    </tr>\n",
       "    <tr>\n",
       "      <th>395</th>\n",
       "      <td>Camila Cabello featuring Young Thug</td>\n",
       "      <td>4</td>\n",
       "      <td>Havana</td>\n",
       "    </tr>\n",
       "  </tbody>\n",
       "</table>\n",
       "</div>"
      ],
      "text/plain": [
       "                                               artists  labels  \\\n",
       "1                         Katy Perry featuring Juicy J       4   \n",
       "21                                              Avicii       4   \n",
       "22                                     Imagine Dragons       4   \n",
       "23                                       One Direction       4   \n",
       "27                      Disclosure featuring Sam Smith       4   \n",
       "44                                   Justin Timberlake       4   \n",
       "46                                            Paramore       4   \n",
       "65                                Florida Georgia Line       4   \n",
       "76           Chris Brown featuring Usher and Rick Ross       4   \n",
       "85                                 5 Seconds of Summer       4   \n",
       "99                                         Miley Cyrus       4   \n",
       "105                                      Walk the Moon       4   \n",
       "128                                       Taylor Swift       4   \n",
       "135                                       Shawn Mendes       4   \n",
       "151                                                Sia       4   \n",
       "193                                       Alessia Cara       4   \n",
       "208                                  Justin Timberlake       4   \n",
       "219                                  Twenty One Pilots       4   \n",
       "222                                       Shawn Mendes       4   \n",
       "226                   The Chainsmokers featuring Rozes       4   \n",
       "238                                       Alessia Cara       4   \n",
       "246                   DJ Snake featuring Justin Bieber       4   \n",
       "250                                      Ariana Grande       4   \n",
       "291                                        Kevin Gates       4   \n",
       "294                                           Coldplay       4   \n",
       "297                                          Desiigner       4   \n",
       "299                                      One Direction       4   \n",
       "301  Luis Fonsi and Daddy Yankee featuring Justin B...       4   \n",
       "311  DJ Khaled featuring Justin Bieber, Quavo, Chan...       4   \n",
       "326                              Kygo and Selena Gomez       4   \n",
       "329                                       Alessia Cara       4   \n",
       "339                                         Ed Sheeran       4   \n",
       "340               Machine Gun Kelly and Camila Cabello       4   \n",
       "341                                   The Chainsmokers       4   \n",
       "345                   DJ Snake featuring Justin Bieber       4   \n",
       "348                                  Justin Timberlake       4   \n",
       "350                                    Imagine Dragons       4   \n",
       "372                   Katy Perry featuring Skip Marley       4   \n",
       "374                                        Jon Bellion       4   \n",
       "375                                         Luke Combs       4   \n",
       "383                                               Pink       4   \n",
       "395                Camila Cabello featuring Young Thug       4   \n",
       "\n",
       "                       songs  \n",
       "1                 Dark Horse  \n",
       "21                Wake Me Up  \n",
       "22                    Demons  \n",
       "23          Story of My Life  \n",
       "27                     Latch  \n",
       "44           Not a Bad Thing  \n",
       "46              Ain't It Fun  \n",
       "65                      Dirt  \n",
       "76                 New Flame  \n",
       "85                   Amnesia  \n",
       "99                 Adore You  \n",
       "105        Shut Up and Dance  \n",
       "128                    Style  \n",
       "135                 Stitches  \n",
       "151            Elastic Heart  \n",
       "193                     Here  \n",
       "208  Can't Stop the Feeling!  \n",
       "219                     Ride  \n",
       "222                 Stitches  \n",
       "226                    Roses  \n",
       "238                     Here  \n",
       "246          Let Me Love You  \n",
       "250                 Into You  \n",
       "291            Really Really  \n",
       "294  Adventure of a Lifetime  \n",
       "297            Tiimmy Turner  \n",
       "299                  Perfect  \n",
       "301                Despacito  \n",
       "311              I'm the One  \n",
       "326              It Ain't Me  \n",
       "329  Scars to Your Beautiful  \n",
       "339       Castle on the Hill  \n",
       "340               Bad Things  \n",
       "341                    Paris  \n",
       "345          Let Me Love You  \n",
       "348  Can't Stop the Feeling!  \n",
       "350                  Thunder  \n",
       "372    Chained to the Rhythm  \n",
       "374             All Time Low  \n",
       "375                Hurricane  \n",
       "383            What About Us  \n",
       "395                   Havana  "
      ]
     },
     "execution_count": 93,
     "metadata": {},
     "output_type": "execute_result"
    }
   ],
   "source": [
    "f = song_recommendations('Sing', 'My Chemical Romance')\n",
    "f\n",
    "# limited to certain genres"
   ]
  },
  {
   "cell_type": "markdown",
   "metadata": {},
   "source": [
    "Doesn't seem entirely accurate from the glance, but if more songs are added, perhaps the clustering will be better as there are some artists with similar styles to My Chemical Romance at least listed here."
   ]
  },
  {
   "cell_type": "code",
   "execution_count": null,
   "metadata": {
    "collapsed": true
   },
   "outputs": [],
   "source": []
  }
 ],
 "metadata": {
  "kernelspec": {
   "display_name": "Python 3",
   "language": "python",
   "name": "python3"
  },
  "language_info": {
   "codemirror_mode": {
    "name": "ipython",
    "version": 3
   },
   "file_extension": ".py",
   "mimetype": "text/x-python",
   "name": "python",
   "nbconvert_exporter": "python",
   "pygments_lexer": "ipython3",
   "version": "3.6.3"
  }
 },
 "nbformat": 4,
 "nbformat_minor": 2
}
